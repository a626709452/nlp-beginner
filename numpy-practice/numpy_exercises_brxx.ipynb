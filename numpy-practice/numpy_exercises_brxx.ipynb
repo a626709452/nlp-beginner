{
 "cells": [
  {
   "cell_type": "markdown",
   "metadata": {},
   "source": [
    "# 100 numpy exercises\n",
    "\n",
    "This is a collection of exercises that have been collected in the numpy mailing list, on stack overflow and in the numpy documentation. The goal of this collection is to offer a quick reference for both old and new users but also to provide a set of exercices for those who teach.\n",
    "\n",
    "\n",
    "If you find an error or think you've a better way to solve some of them, feel free to open an issue at <https://github.com/rougier/numpy-100>"
   ]
  },
  {
   "cell_type": "markdown",
   "metadata": {},
   "source": [
    "#### 1. Import the numpy package under the name `np` (★☆☆)"
   ]
  },
  {
   "cell_type": "code",
   "execution_count": 1,
   "metadata": {
    "collapsed": true
   },
   "outputs": [],
   "source": [
    "import numpy as np"
   ]
  },
  {
   "cell_type": "markdown",
   "metadata": {},
   "source": [
    "#### 2. Print the numpy version and the configuration (★☆☆)"
   ]
  },
  {
   "cell_type": "code",
   "execution_count": 3,
   "metadata": {
    "collapsed": false
   },
   "outputs": [
    {
     "name": "stdout",
     "output_type": "stream",
     "text": [
      "1.13.1\n",
      "1.13.1\n",
      "lapack_opt_info:\n",
      "    libraries = ['openblas', 'openblas']\n",
      "    library_dirs = ['/usr/local/lib']\n",
      "    define_macros = [('HAVE_CBLAS', None)]\n",
      "    language = c\n",
      "blas_opt_info:\n",
      "    libraries = ['openblas', 'openblas']\n",
      "    library_dirs = ['/usr/local/lib']\n",
      "    define_macros = [('HAVE_CBLAS', None)]\n",
      "    language = c\n",
      "openblas_info:\n",
      "    libraries = ['openblas', 'openblas']\n",
      "    library_dirs = ['/usr/local/lib']\n",
      "    define_macros = [('HAVE_CBLAS', None)]\n",
      "    language = c\n",
      "blis_info:\n",
      "  NOT AVAILABLE\n",
      "openblas_lapack_info:\n",
      "    libraries = ['openblas', 'openblas']\n",
      "    library_dirs = ['/usr/local/lib']\n",
      "    define_macros = [('HAVE_CBLAS', None)]\n",
      "    language = c\n",
      "lapack_mkl_info:\n",
      "  NOT AVAILABLE\n",
      "blas_mkl_info:\n",
      "  NOT AVAILABLE\n"
     ]
    }
   ],
   "source": [
    "print np.__version__\n",
    "print np.version.version\n",
    "np.show_config()"
   ]
  },
  {
   "cell_type": "markdown",
   "metadata": {},
   "source": [
    "#### 3. Create a null vector of size 10 (★☆☆)"
   ]
  },
  {
   "cell_type": "code",
   "execution_count": 5,
   "metadata": {
    "collapsed": true
   },
   "outputs": [],
   "source": [
    "a = np.zeros(10)"
   ]
  },
  {
   "cell_type": "markdown",
   "metadata": {},
   "source": [
    "#### 4.  How to find the memory size of any array (★☆☆)"
   ]
  },
  {
   "cell_type": "code",
   "execution_count": 8,
   "metadata": {
    "collapsed": false
   },
   "outputs": [
    {
     "name": "stdout",
     "output_type": "stream",
     "text": [
      "10\n",
      "8\n",
      "80\n"
     ]
    }
   ],
   "source": [
    "print a.size\n",
    "print a.itemsize\n",
    "print a.size * a.itemsize"
   ]
  },
  {
   "cell_type": "markdown",
   "metadata": {},
   "source": [
    "#### 5.  How to get the documentation of the numpy add function from the command line? (★☆☆)"
   ]
  },
  {
   "cell_type": "code",
   "execution_count": 15,
   "metadata": {
    "collapsed": false
   },
   "outputs": [
    {
     "name": "stdout",
     "output_type": "stream",
     "text": [
      "add(x1, x2, /, out=None, *, where=True, casting='same_kind', order='K', dtype=None, subok=True[, signature, extobj])\r\n",
      "\r\n",
      "Add arguments element-wise.\r\n",
      "\r\n",
      "Parameters\r\n",
      "----------\r\n",
      "x1, x2 : array_like\r\n",
      "    The arrays to be added.  If ``x1.shape != x2.shape``, they must be\r\n",
      "    broadcastable to a common shape (which may be the shape of one or\r\n",
      "    the other).\r\n",
      "out : ndarray, None, or tuple of ndarray and None, optional\r\n",
      "    A location into which the result is stored. If provided, it must have\r\n",
      "    a shape that the inputs broadcast to. If not provided or `None`,\r\n",
      "    a freshly-allocated array is returned. A tuple (possible only as a\r\n",
      "    keyword argument) must have length equal to the number of outputs.\r\n",
      "where : array_like, optional\r\n",
      "    Values of True indicate to calculate the ufunc at that position, values\r\n",
      "    of False indicate to leave the value in the output alone.\r\n",
      "**kwargs\r\n",
      "    For other keyword-only arguments, see the\r\n",
      "    :ref:`ufunc docs <ufuncs.kwargs>`.\r\n",
      "\r\n",
      "Returns\r\n",
      "-------\r\n",
      "add : ndarray or scalar\r\n",
      "    The sum of `x1` and `x2`, element-wise.  Returns a scalar if\r\n",
      "    both  `x1` and `x2` are scalars.\r\n",
      "\r\n",
      "Notes\r\n",
      "-----\r\n",
      "Equivalent to `x1` + `x2` in terms of array broadcasting.\r\n",
      "\r\n",
      "Examples\r\n",
      "--------\r\n",
      ">>> np.add(1.0, 4.0)\r\n",
      "5.0\r\n",
      ">>> x1 = np.arange(9.0).reshape((3, 3))\r\n",
      ">>> x2 = np.arange(3.0)\r\n",
      ">>> np.add(x1, x2)\r\n",
      "array([[  0.,   2.,   4.],\r\n",
      "       [  3.,   5.,   7.],\r\n",
      "       [  6.,   8.,  10.]])\r\n"
     ]
    }
   ],
   "source": [
    "!python -c \"import numpy;numpy.info(numpy.add)\"\n",
    "# ! for command line\n",
    "# python -c \"\" for python command line"
   ]
  },
  {
   "cell_type": "markdown",
   "metadata": {},
   "source": [
    "#### 6.  Create a null vector of size 10 but the fifth value which is 1 (★☆☆)"
   ]
  },
  {
   "cell_type": "code",
   "execution_count": 17,
   "metadata": {
    "collapsed": false
   },
   "outputs": [
    {
     "name": "stdout",
     "output_type": "stream",
     "text": [
      "[ 0.  0.  0.  0.  1.  0.  0.  0.  0.  0.]\n"
     ]
    }
   ],
   "source": [
    "b = np.zeros(10)\n",
    "b[4] = 1\n",
    "print b"
   ]
  },
  {
   "cell_type": "markdown",
   "metadata": {},
   "source": [
    "#### 7.  Create a vector with values ranging from 10 to 49 (★☆☆)"
   ]
  },
  {
   "cell_type": "code",
   "execution_count": 25,
   "metadata": {
    "collapsed": false
   },
   "outputs": [
    {
     "name": "stdout",
     "output_type": "stream",
     "text": [
      "[10 11 12 13 14 15 16 17 18 19 20 21 22 23 24 25 26 27 28 29 30 31 32 33 34\n",
      " 35 36 37 38 39 40 41 42 43 44 45 46 47 48]\n"
     ]
    }
   ],
   "source": [
    "c = np.arange(10, 49)\n",
    "print c"
   ]
  },
  {
   "cell_type": "markdown",
   "metadata": {},
   "source": [
    "#### 8.  Reverse a vector (first element becomes last) (★☆☆)"
   ]
  },
  {
   "cell_type": "code",
   "execution_count": 32,
   "metadata": {
    "collapsed": false
   },
   "outputs": [
    {
     "name": "stdout",
     "output_type": "stream",
     "text": [
      "[48 47 46 45 44 43 42 41 40 39 38 37 36 35 34 33 32 31 30 29 28 27 26 25 24\n",
      " 23 22 21 20 19 18 17 16 15 14 13 12 11 10]\n"
     ]
    }
   ],
   "source": [
    "d = np.arange(10, 49)\n",
    "print d[::-1]"
   ]
  },
  {
   "cell_type": "markdown",
   "metadata": {},
   "source": [
    "#### 9.  Create a 3x3 matrix with values ranging from 0 to 8 (★☆☆)"
   ]
  },
  {
   "cell_type": "code",
   "execution_count": 36,
   "metadata": {
    "collapsed": false
   },
   "outputs": [
    {
     "name": "stdout",
     "output_type": "stream",
     "text": [
      "[[0 1 2]\n",
      " [3 4 5]\n",
      " [6 7 8]]\n"
     ]
    }
   ],
   "source": [
    "print np.arange(0, 9).reshape(3, 3)"
   ]
  },
  {
   "cell_type": "markdown",
   "metadata": {},
   "source": [
    "#### 10. Find indices of non-zero elements from \\[1,2,0,0,4,0\\] (★☆☆)"
   ]
  },
  {
   "cell_type": "code",
   "execution_count": 48,
   "metadata": {
    "collapsed": false
   },
   "outputs": [
    {
     "name": "stdout",
     "output_type": "stream",
     "text": [
      "[0 1 4]\n",
      "[0 1 4]\n"
     ]
    }
   ],
   "source": [
    "a = np.array([1,2,0,0,4,0])\n",
    "print np.arange(0, a.size)[a!=0]\n",
    "# nonzero, return tuple: the first element means the axis=0 of the indice and the second element means the axis=1 of the indice\n",
    "# eg. if the a[0,0], a[1,2], a[3,4] is nonzero, then the function returns (array([0,1,3]), array(0,2,4)) \n",
    "print np.nonzero([1,2,0,0,4,0])[0]"
   ]
  },
  {
   "cell_type": "markdown",
   "metadata": {},
   "source": [
    "#### 11. Create a 3x3 identity matrix (★☆☆)"
   ]
  },
  {
   "cell_type": "code",
   "execution_count": 49,
   "metadata": {
    "collapsed": false
   },
   "outputs": [
    {
     "data": {
      "text/plain": [
       "array([[ 1.,  0.,  0.],\n",
       "       [ 0.,  1.,  0.],\n",
       "       [ 0.,  0.,  1.]])"
      ]
     },
     "execution_count": 49,
     "metadata": {},
     "output_type": "execute_result"
    }
   ],
   "source": [
    "np.eye(3,3)"
   ]
  },
  {
   "cell_type": "markdown",
   "metadata": {},
   "source": [
    "#### 12. Create a 3x3x3 array with random values (★☆☆)"
   ]
  },
  {
   "cell_type": "code",
   "execution_count": 51,
   "metadata": {
    "collapsed": false
   },
   "outputs": [
    {
     "data": {
      "text/plain": [
       "array([[[ 0.1149687 ,  0.11742324,  0.0496879 ],\n",
       "        [ 0.4679223 ,  0.85326528,  0.59758272],\n",
       "        [ 0.43568485,  0.59190114,  0.1469134 ]],\n",
       "\n",
       "       [[ 0.28930262,  0.20751857,  0.48507756],\n",
       "        [ 0.17897405,  0.30439575,  0.87228101],\n",
       "        [ 0.93109626,  0.89743418,  0.40548233]],\n",
       "\n",
       "       [[ 0.32460542,  0.4026128 ,  0.00549765],\n",
       "        [ 0.57700301,  0.56520973,  0.00621552],\n",
       "        [ 0.5948916 ,  0.69131941,  0.85273974]]])"
      ]
     },
     "execution_count": 51,
     "metadata": {},
     "output_type": "execute_result"
    }
   ],
   "source": [
    "np.random.random([3,3,3])"
   ]
  },
  {
   "cell_type": "markdown",
   "metadata": {},
   "source": [
    "#### 13. Create a 10x10 array with random values and find the minimum and maximum values (★☆☆)"
   ]
  },
  {
   "cell_type": "code",
   "execution_count": 55,
   "metadata": {
    "collapsed": false
   },
   "outputs": [
    {
     "name": "stdout",
     "output_type": "stream",
     "text": [
      "[[ 0.80032213  0.72498956  0.85361131  0.78512129  0.49929226  0.81688721\n",
      "   0.44602114  0.76155528  0.87509068  0.95641327]\n",
      " [ 0.56191298  0.65111071  0.86478143  0.75715028  0.8611985   0.63240509\n",
      "   0.49801171  0.92057144  0.74798693  0.360567  ]\n",
      " [ 0.22277218  0.07062793  0.07138634  0.04357424  0.36363091  0.90113656\n",
      "   0.15396669  0.73890168  0.29390106  0.05413523]\n",
      " [ 0.79991803  0.76540378  0.81904112  0.4323953   0.04767712  0.63256814\n",
      "   0.00936706  0.60683642  0.25948146  0.45985726]\n",
      " [ 0.07759964  0.33816513  0.11253799  0.41572803  0.12516572  0.87137914\n",
      "   0.58804937  0.70377555  0.12044448  0.52083715]\n",
      " [ 0.64762716  0.32211405  0.82408713  0.45351712  0.28366987  0.19808923\n",
      "   0.94414112  0.60254607  0.69578657  0.93088825]\n",
      " [ 0.26135163  0.1906105   0.95549539  0.54545559  0.91917358  0.71481284\n",
      "   0.72722953  0.9934477   0.87595189  0.5727191 ]\n",
      " [ 0.21697159  0.41580733  0.86232628  0.41038235  0.59029606  0.26352727\n",
      "   0.35867328  0.74696697  0.78531885  0.29389729]\n",
      " [ 0.38236391  0.25881808  0.8435116   0.35528224  0.56733233  0.71346047\n",
      "   0.16158264  0.31437791  0.29948883  0.3215291 ]\n",
      " [ 0.66431238  0.77748524  0.60988993  0.38382586  0.92164632  0.49754483\n",
      "   0.65505955  0.28005129  0.24087972  0.67479189]]\n",
      "0.00936706267213 0.993447697082\n"
     ]
    }
   ],
   "source": [
    "a = np.random.random([10,10])\n",
    "print a\n",
    "print a.min(), a.max()"
   ]
  },
  {
   "cell_type": "markdown",
   "metadata": {},
   "source": [
    "#### 14. Create a random vector of size 30 and find the mean value (★☆☆)"
   ]
  },
  {
   "cell_type": "code",
   "execution_count": 56,
   "metadata": {
    "collapsed": false
   },
   "outputs": [
    {
     "name": "stdout",
     "output_type": "stream",
     "text": [
      "0.443143269566\n"
     ]
    }
   ],
   "source": [
    "a = np.random.random(30)\n",
    "print a.mean()"
   ]
  },
  {
   "cell_type": "markdown",
   "metadata": {},
   "source": [
    "#### 15. Create a 2d array with 1 on the border and 0 inside (★☆☆)"
   ]
  },
  {
   "cell_type": "code",
   "execution_count": 64,
   "metadata": {
    "collapsed": false
   },
   "outputs": [
    {
     "name": "stdout",
     "output_type": "stream",
     "text": [
      "[[ 1.  1.  1.  1.  1.  1.  1.  1.  1.  1.]\n",
      " [ 1.  0.  0.  0.  0.  0.  0.  0.  0.  1.]\n",
      " [ 1.  0.  0.  0.  0.  0.  0.  0.  0.  1.]\n",
      " [ 1.  0.  0.  0.  0.  0.  0.  0.  0.  1.]\n",
      " [ 1.  0.  0.  0.  0.  0.  0.  0.  0.  1.]\n",
      " [ 1.  0.  0.  0.  0.  0.  0.  0.  0.  1.]\n",
      " [ 1.  0.  0.  0.  0.  0.  0.  0.  0.  1.]\n",
      " [ 1.  0.  0.  0.  0.  0.  0.  0.  0.  1.]\n",
      " [ 1.  0.  0.  0.  0.  0.  0.  0.  0.  1.]\n",
      " [ 1.  1.  1.  1.  1.  1.  1.  1.  1.  1.]]\n"
     ]
    }
   ],
   "source": [
    "a = np.zeros([10,10])\n",
    "a[[0,-1],:] = 1\n",
    "a[:,[0,-1]] = 1\n",
    "print a"
   ]
  },
  {
   "cell_type": "markdown",
   "metadata": {},
   "source": [
    "#### 16. How to add a border (filled with 0's) around an existing array? (★☆☆)"
   ]
  },
  {
   "cell_type": "code",
   "execution_count": 75,
   "metadata": {
    "collapsed": false
   },
   "outputs": [
    {
     "name": "stdout",
     "output_type": "stream",
     "text": [
      "[[ 0.          0.          0.          0.          0.        ]\n",
      " [ 0.          0.55407892  0.29251313  0.82219663  0.        ]\n",
      " [ 0.          0.16926169  0.88591793  0.73104758  0.        ]\n",
      " [ 0.          0.99875408  0.95801145  0.91474817  0.        ]\n",
      " [ 0.          0.          0.          0.          0.        ]]\n"
     ]
    }
   ],
   "source": [
    "a = np.random.random([3,3])\n",
    "# print np.pad(a, pad_width=((3,2),(1,4)), mode='maximum')\n",
    "# 3 on the top and 2 on the bottom, 1 on the left and 4 on the right\n",
    "print np.pad(a,pad_width=1,mode='constant',constant_values=0)"
   ]
  },
  {
   "cell_type": "markdown",
   "metadata": {},
   "source": [
    "#### 17. What is the result of the following expression? (★☆☆)"
   ]
  },
  {
   "cell_type": "markdown",
   "metadata": {},
   "source": [
    "```python\n",
    "0 * np.nan\n",
    "np.nan == np.nan\n",
    "np.inf > np.nan\n",
    "np.nan - np.nan\n",
    "0.3 == 3 * 0.1\n",
    "```"
   ]
  },
  {
   "cell_type": "code",
   "execution_count": 76,
   "metadata": {
    "collapsed": false
   },
   "outputs": [
    {
     "name": "stdout",
     "output_type": "stream",
     "text": [
      "nan\n",
      "False\n",
      "False\n",
      "nan\n",
      "False\n"
     ]
    }
   ],
   "source": [
    "# any number operated with nan will get nan\n",
    "# nan can not be compared\n",
    "print 0 * np.nan # nan\n",
    "print np.nan == np.nan # False\n",
    "print np.inf > np.nan # False\n",
    "print np.nan - np.nan # nan\n",
    "print 0.3 == 3 * 0.1 # False"
   ]
  },
  {
   "cell_type": "markdown",
   "metadata": {},
   "source": [
    "#### 18. Create a 5x5 matrix with values 1,2,3,4 just below the diagonal (★☆☆)"
   ]
  },
  {
   "cell_type": "code",
   "execution_count": 79,
   "metadata": {
    "collapsed": false
   },
   "outputs": [
    {
     "name": "stdout",
     "output_type": "stream",
     "text": [
      "[[ 0.  0.  0.  0.  0.]\n",
      " [ 1.  0.  0.  0.  0.]\n",
      " [ 0.  2.  0.  0.  0.]\n",
      " [ 0.  0.  3.  0.  0.]\n",
      " [ 0.  0.  0.  4.  0.]]\n",
      "[[0 0 0 0 0]\n",
      " [1 0 0 0 0]\n",
      " [0 2 0 0 0]\n",
      " [0 0 3 0 0]\n",
      " [0 0 0 4 0]]\n"
     ]
    }
   ],
   "source": [
    "a = np.zeros([5,5])\n",
    "a[1,0]=1\n",
    "a[2,1]=2\n",
    "a[3,2]=3\n",
    "a[4,3]=4\n",
    "print a\n",
    "#k=0对角线，k>0对角线上面，k<0对角线下面\n",
    "# k = 0 is the diag, k > 0 means above the diag by the offset\n",
    "b = np.diag(np.arange(1,5), k=-1)\n",
    "print b"
   ]
  },
  {
   "cell_type": "markdown",
   "metadata": {},
   "source": [
    "#### 19. Create a 8x8 matrix and fill it with a checkerboard pattern (★☆☆)"
   ]
  },
  {
   "cell_type": "code",
   "execution_count": 95,
   "metadata": {
    "collapsed": false
   },
   "outputs": [
    {
     "name": "stdout",
     "output_type": "stream",
     "text": [
      "[[ 0.  1.  0.  1.  0.  1.  0.  1.]\n",
      " [ 1.  0.  1.  0.  1.  0.  1.  0.]\n",
      " [ 0.  1.  0.  1.  0.  1.  0.  1.]\n",
      " [ 1.  0.  1.  0.  1.  0.  1.  0.]\n",
      " [ 0.  1.  0.  1.  0.  1.  0.  1.]\n",
      " [ 1.  0.  1.  0.  1.  0.  1.  0.]\n",
      " [ 0.  1.  0.  1.  0.  1.  0.  1.]\n",
      " [ 1.  0.  1.  0.  1.  0.  1.  0.]]\n"
     ]
    }
   ],
   "source": [
    "a = np.zeros([8,8])\n",
    "a[0::2,1::2] = 1\n",
    "a[1::2, 0::2] = 1\n",
    "print a"
   ]
  },
  {
   "cell_type": "markdown",
   "metadata": {},
   "source": [
    "#### 20. Consider a (6,7,8) shape array, what is the index (x,y,z) of the 100th element?"
   ]
  },
  {
   "cell_type": "code",
   "execution_count": 102,
   "metadata": {
    "collapsed": false
   },
   "outputs": [
    {
     "name": "stdout",
     "output_type": "stream",
     "text": [
      "(array([1]), array([5]), array([3]))\n"
     ]
    }
   ],
   "source": [
    "a = np.arange(0,6*7*8).reshape([6,7,8])\n",
    "print np.nonzero(a==99) # a[1,5,3]"
   ]
  },
  {
   "cell_type": "markdown",
   "metadata": {},
   "source": [
    "#### 21. Create a checkerboard 8x8 matrix using the tile function (★☆☆)"
   ]
  },
  {
   "cell_type": "code",
   "execution_count": 103,
   "metadata": {
    "collapsed": false
   },
   "outputs": [
    {
     "name": "stdout",
     "output_type": "stream",
     "text": [
      "[[0 1 0 1 0 1 0 1]\n",
      " [1 0 1 0 1 0 1 0]\n",
      " [0 1 0 1 0 1 0 1]\n",
      " [1 0 1 0 1 0 1 0]\n",
      " [0 1 0 1 0 1 0 1]\n",
      " [1 0 1 0 1 0 1 0]\n",
      " [0 1 0 1 0 1 0 1]\n",
      " [1 0 1 0 1 0 1 0]]\n"
     ]
    }
   ],
   "source": [
    "# tile function refers to https://docs.scipy.org/doc/numpy-1.10.0/reference/generated/numpy.tile.html\n",
    "a = [[0,1],[1,0]]\n",
    "print np.tile(a, [4,4])"
   ]
  },
  {
   "cell_type": "markdown",
   "metadata": {},
   "source": [
    "#### 22. Normalize a 5x5 random matrix (★☆☆)"
   ]
  },
  {
   "cell_type": "code",
   "execution_count": 109,
   "metadata": {
    "collapsed": false
   },
   "outputs": [
    {
     "name": "stdout",
     "output_type": "stream",
     "text": [
      "[[ 0.12434585 -0.50885424 -0.32874708  0.12965104  0.14276829]\n",
      " [-0.01081289 -0.14863788 -0.38014819  0.09420089 -0.28363426]\n",
      " [ 0.18371215  0.2488285   0.3561165  -0.30227574  0.16760656]\n",
      " [-0.34259939  0.39417691 -0.22790312  0.08062595 -0.13458016]\n",
      " [ 0.00626271  0.31499683  0.14968638  0.07177528  0.20343911]]\n"
     ]
    }
   ],
   "source": [
    "a = np.random.random([5,5])\n",
    "mean = a.mean()\n",
    "var = b.std()\n",
    "a = (a - mean) / var\n",
    "print a\n",
    "# vector=(vector-vector.min())/(vector.max()-vector.min())"
   ]
  },
  {
   "cell_type": "markdown",
   "metadata": {},
   "source": [
    "#### 23. Create a custom dtype that describes a color as four unsigned bytes (RGBA) (★☆☆)"
   ]
  },
  {
   "cell_type": "code",
   "execution_count": 114,
   "metadata": {
    "collapsed": false
   },
   "outputs": [
    {
     "name": "stdout",
     "output_type": "stream",
     "text": [
      "[('R', 'u1'), ('G', 'u1'), ('B', 'u1'), ('A', 'u1')]\n"
     ]
    }
   ],
   "source": [
    "# dtype refers to https://docs.scipy.org/doc/numpy/reference/generated/numpy.dtype.html\n",
    "# the difference between astype and dtype can refer to http://www.mamicode.com/info-detail-1180317.html\n",
    "color = np.dtype([('R',np.ubyte), ('G', np.ubyte), ('B', np.ubyte), ('A', np.ubyte)])\n",
    "print color"
   ]
  },
  {
   "cell_type": "markdown",
   "metadata": {},
   "source": [
    "#### 24. Multiply a 5x3 matrix by a 3x2 matrix (real matrix product) (★☆☆)"
   ]
  },
  {
   "cell_type": "code",
   "execution_count": 122,
   "metadata": {
    "collapsed": false
   },
   "outputs": [
    {
     "name": "stdout",
     "output_type": "stream",
     "text": [
      "[[ 0.26300364  0.41006981]\n",
      " [ 0.41434895  0.48906535]\n",
      " [ 0.81901843  1.43756999]\n",
      " [ 1.12223858  1.67969553]\n",
      " [ 0.46690095  0.70416466]]\n"
     ]
    }
   ],
   "source": [
    "a = np.random.random([5, 3])\n",
    "b = np.random.random([3, 2])\n",
    "print np.dot(a, b)"
   ]
  },
  {
   "cell_type": "markdown",
   "metadata": {},
   "source": [
    "#### 25. Given a 1D array, negate all elements which are between 3 and 8, in place. (★☆☆)"
   ]
  },
  {
   "cell_type": "code",
   "execution_count": 134,
   "metadata": {
    "collapsed": false
   },
   "outputs": [
    {
     "name": "stdout",
     "output_type": "stream",
     "text": [
      "[ 1  2  3 -4 -5 -6 -7  8  9]\n"
     ]
    }
   ],
   "source": [
    "a = np.arange(1, 10)\n",
    "a[(a > 3) & (a < 8)] *= -1\n",
    "print a"
   ]
  },
  {
   "cell_type": "markdown",
   "metadata": {},
   "source": [
    "#### 26. What is the output of the following script? (★☆☆)"
   ]
  },
  {
   "cell_type": "markdown",
   "metadata": {},
   "source": [
    "```python\n",
    "# Author: Jake VanderPlas\n",
    "\n",
    "print(sum(range(5),-1))\n",
    "from numpy import *\n",
    "print(sum(range(5),-1))\n",
    "```"
   ]
  },
  {
   "cell_type": "code",
   "execution_count": 140,
   "metadata": {
    "collapsed": false
   },
   "outputs": [
    {
     "name": "stdout",
     "output_type": "stream",
     "text": [
      "9\n",
      "10\n"
     ]
    }
   ],
   "source": [
    "print(sum(range(5),-1)) # 9,sum is the build-in function in python，sum(sequence[,start]) equal to start+1+2+3+4=9\n",
    "print(np.sum(range(5),-1)) #numpy.sum(a, axis=None)"
   ]
  },
  {
   "cell_type": "markdown",
   "metadata": {},
   "source": [
    "#### 27. Consider an integer vector Z, which of these expressions are legal? (★☆☆)"
   ]
  },
  {
   "cell_type": "markdown",
   "metadata": {},
   "source": [
    "```python\n",
    "Z**Z\n",
    "2 << Z >> 2\n",
    "Z <- Z\n",
    "1j*Z\n",
    "Z/1/1\n",
    "Z<Z>Z\n",
    "```"
   ]
  },
  {
   "cell_type": "code",
   "execution_count": 160,
   "metadata": {
    "collapsed": false
   },
   "outputs": [
    {
     "name": "stdout",
     "output_type": "stream",
     "text": [
      "[0 1 2 3 4]\n",
      "[  1   1   4  27 256]\n",
      "[0 1 2 4 8]\n",
      "[False False False False False]\n",
      "[ 0.+0.j  0.+1.j  0.+2.j  0.+3.j  0.+4.j]\n",
      "[0 1 2 3 4]\n"
     ]
    }
   ],
   "source": [
    "Z = np.arange(0,5)\n",
    "print Z\n",
    "print Z ** Z # [0^0, 1^1, 2^2, 3^3, 4^4]\n",
    "print 2 << Z >> 2\n",
    "print Z <- Z # -> refer to the return type of the function\n",
    "print 1j*Z\n",
    "print Z/1/1\n",
    "# print Z<Z>Z"
   ]
  },
  {
   "cell_type": "markdown",
   "metadata": {},
   "source": [
    "#### 28. What are the result of the following expressions?"
   ]
  },
  {
   "cell_type": "markdown",
   "metadata": {},
   "source": [
    "```python\n",
    "np.array(0) / np.array(0)\n",
    "np.array(0) // np.array(0)\n",
    "np.array([np.nan]).astype(int).astype(float)\n",
    "```"
   ]
  },
  {
   "cell_type": "code",
   "execution_count": 169,
   "metadata": {
    "collapsed": false
   },
   "outputs": [
    {
     "data": {
      "text/plain": [
       "array([ -9.22337204e+18])"
      ]
     },
     "execution_count": 169,
     "metadata": {},
     "output_type": "execute_result"
    }
   ],
   "source": [
    "from __future__ import division\n",
    "# print np.array(0) / np.array(0) # nan, runtime warning (float division)\n",
    "# print np.array(0) // np.array(0) #runtime warning (int division)\n",
    "np.array([np.nan]).astype(int).astype(float)"
   ]
  },
  {
   "cell_type": "markdown",
   "metadata": {},
   "source": [
    "#### 29. How to round away from zero a float array ? (★☆☆)"
   ]
  },
  {
   "cell_type": "code",
   "execution_count": 173,
   "metadata": {
    "collapsed": false
   },
   "outputs": [
    {
     "name": "stdout",
     "output_type": "stream",
     "text": [
      "[-0.63639402  7.99788506  3.70142702  1.70224684  6.2089118  -6.78357125\n",
      "  3.48732796 -0.15504115 -6.82567455 -2.6627188 ]\n",
      "[-1.  8.  4.  2.  7. -7.  4. -1. -7. -3.]\n"
     ]
    }
   ],
   "source": [
    "a = np.random.uniform(-10, 10, 10)\n",
    "print a\n",
    "# copysign for copysign from Z\n",
    "print (np.copysign(np.ceil(np.abs(a)), a))"
   ]
  },
  {
   "cell_type": "markdown",
   "metadata": {},
   "source": [
    "#### 30. How to find common values between two arrays? (★☆☆)"
   ]
  },
  {
   "cell_type": "code",
   "execution_count": 174,
   "metadata": {
    "collapsed": false
   },
   "outputs": [
    {
     "name": "stdout",
     "output_type": "stream",
     "text": [
      "[6 2 8 6 8 3 8 7 1 2]\n",
      "[0 7 9 2 7 7 9 0 2 9]\n",
      "[2 7]\n"
     ]
    }
   ],
   "source": [
    "a = np.random.randint(0, 10, 10)\n",
    "b = np.random.randint(0, 10, 10)\n",
    "print a\n",
    "print b\n",
    "print(np.intersect1d(a, b))"
   ]
  },
  {
   "cell_type": "markdown",
   "metadata": {},
   "source": [
    "#### 31. How to ignore all numpy warnings (not recommended)? (★☆☆)"
   ]
  },
  {
   "cell_type": "code",
   "execution_count": 175,
   "metadata": {
    "collapsed": true
   },
   "outputs": [],
   "source": [
    "# Suicide mode on\n",
    "defaults = np.seterr(all=\"ignore\")\n",
    "Z = np.ones(1) / 0\n",
    "\n",
    "# Back to sanity\n",
    "_ = np.seterr(**defaults)\n",
    "\n",
    "#An equivalent way, with a context manager:\n",
    "with np.errstate(divide='ignore'):\n",
    "    Z = np.ones(1) / 0"
   ]
  },
  {
   "cell_type": "markdown",
   "metadata": {},
   "source": [
    "#### 32. Is the following expressions true? (★☆☆)"
   ]
  },
  {
   "cell_type": "markdown",
   "metadata": {},
   "source": [
    "```python\n",
    "np.sqrt(-1) == np.emath.sqrt(-1)\n",
    "```"
   ]
  },
  {
   "cell_type": "code",
   "execution_count": 178,
   "metadata": {
    "collapsed": false
   },
   "outputs": [
    {
     "name": "stdout",
     "output_type": "stream",
     "text": [
      "1j\n"
     ]
    }
   ],
   "source": [
    "# print np.sqrt(-1) # nan\n",
    "print np.emath.sqrt(-1) # 1j"
   ]
  },
  {
   "cell_type": "markdown",
   "metadata": {},
   "source": [
    "#### 33. How to get the dates of yesterday, today and tomorrow? (★☆☆)"
   ]
  },
  {
   "cell_type": "code",
   "execution_count": 182,
   "metadata": {
    "collapsed": false
   },
   "outputs": [
    {
     "name": "stdout",
     "output_type": "stream",
     "text": [
      "2017-09-28\n",
      "2017-09-29\n",
      "2017-09-30\n"
     ]
    }
   ],
   "source": [
    "print np.datetime64('today', 'D') - np.timedelta64(1, 'D')\n",
    "print np.datetime64('today', 'D')\n",
    "print np.datetime64('today', 'D') + np.timedelta64(1, 'D')"
   ]
  },
  {
   "cell_type": "markdown",
   "metadata": {},
   "source": [
    "#### 34. How to get all the dates corresponding to the month of July 2016? (★★☆)"
   ]
  },
  {
   "cell_type": "code",
   "execution_count": 183,
   "metadata": {
    "collapsed": false
   },
   "outputs": [
    {
     "name": "stdout",
     "output_type": "stream",
     "text": [
      "['2016-07-01' '2016-07-02' '2016-07-03' '2016-07-04' '2016-07-05'\n",
      " '2016-07-06' '2016-07-07' '2016-07-08' '2016-07-09' '2016-07-10'\n",
      " '2016-07-11' '2016-07-12' '2016-07-13' '2016-07-14' '2016-07-15'\n",
      " '2016-07-16' '2016-07-17' '2016-07-18' '2016-07-19' '2016-07-20'\n",
      " '2016-07-21' '2016-07-22' '2016-07-23' '2016-07-24' '2016-07-25'\n",
      " '2016-07-26' '2016-07-27' '2016-07-28' '2016-07-29' '2016-07-30'\n",
      " '2016-07-31']\n"
     ]
    }
   ],
   "source": [
    "print np.arange('2016-07', '2016-08', dtype='datetime64[D]')"
   ]
  },
  {
   "cell_type": "markdown",
   "metadata": {},
   "source": [
    "#### 35. How to compute ((A+B)\\*(-A/2)) in place (without copy)? (★★☆)"
   ]
  },
  {
   "cell_type": "code",
   "execution_count": 190,
   "metadata": {
    "collapsed": false
   },
   "outputs": [
    {
     "name": "stdout",
     "output_type": "stream",
     "text": [
      "[ 3.  3.  3.]\n",
      "[ 3.  3.  3.]\n",
      "[-9. -9. -9.]\n",
      "[ 3.  3.  3.]\n",
      "[ True  True  True]\n"
     ]
    }
   ],
   "source": [
    "A = np.ones(3) * 3 \n",
    "B = np.ones(3) * 3 \n",
    "temp = ((A+B)*(-A/2))\n",
    "print A\n",
    "print B\n",
    "np.add(A, B, out = A)\n",
    "np.divide(A, 2, out = A)\n",
    "np.negative(A, out = A)\n",
    "np.multiply(A, B, out = A)\n",
    "print A\n",
    "print B\n",
    "print A == temp"
   ]
  },
  {
   "cell_type": "markdown",
   "metadata": {},
   "source": [
    "#### 36. Extract the integer part of a random array using 5 different methods (★★☆)"
   ]
  },
  {
   "cell_type": "code",
   "execution_count": 201,
   "metadata": {
    "collapsed": false
   },
   "outputs": [
    {
     "name": "stdout",
     "output_type": "stream",
     "text": [
      "[ 4.62704819  7.86623433  5.28836127  3.39909293  2.73788321  9.77696496\n",
      "  7.76151243  2.23373681  4.32456907  8.15502965]\n",
      "[4 7 5 3 2 9 7 2 4 8]\n",
      "[ 4.  7.  5.  3.  2.  9.  7.  2.  4.  8.]\n",
      "[ 4.  7.  5.  3.  2.  9.  7.  2.  4.  8.]\n",
      "[ 4.  7.  5.  3.  2.  9.  7.  2.  4.  8.]\n",
      "[ 4.  7.  5.  3.  2.  9.  7.  2.  4.  8.]\n"
     ]
    }
   ],
   "source": [
    "a = np.random.uniform(0, 10, 10)\n",
    "print a\n",
    "print a.astype(int)\n",
    "print np.floor(a)\n",
    "print np.ceil(a) - 1\n",
    "print a - a % 1\n",
    "print np.trunc(a) # tail-cut"
   ]
  },
  {
   "cell_type": "markdown",
   "metadata": {},
   "source": [
    "#### 37. Create a 5x5 matrix with row values ranging from 0 to 4 (★★☆)"
   ]
  },
  {
   "cell_type": "code",
   "execution_count": 206,
   "metadata": {
    "collapsed": false
   },
   "outputs": [
    {
     "name": "stdout",
     "output_type": "stream",
     "text": [
      "[[ 0.  1.  2.  3.  4.]\n",
      " [ 0.  1.  2.  3.  4.]\n",
      " [ 0.  1.  2.  3.  4.]\n",
      " [ 0.  1.  2.  3.  4.]\n",
      " [ 0.  1.  2.  3.  4.]]\n",
      "[[0 1 2 3 4]\n",
      " [0 1 2 3 4]\n",
      " [0 1 2 3 4]\n",
      " [0 1 2 3 4]\n",
      " [0 1 2 3 4]]\n"
     ]
    }
   ],
   "source": [
    "Z = np.zeros((5, 5))\n",
    "Z += np.arange(5)\n",
    "print(Z)\n",
    "a = np.arange(5)\n",
    "print np.tile(a, [5,1])"
   ]
  },
  {
   "cell_type": "markdown",
   "metadata": {},
   "source": [
    "#### 38. Consider a generator function that generates 10 integers and use it to build an array (★☆☆)"
   ]
  },
  {
   "cell_type": "code",
   "execution_count": 209,
   "metadata": {
    "collapsed": false
   },
   "outputs": [
    {
     "name": "stdout",
     "output_type": "stream",
     "text": [
      "[0 1 2 3 4 5 6 7 8 9]\n"
     ]
    }
   ],
   "source": [
    "def generator():\n",
    "    for x in range(0, 10):\n",
    "        yield x\n",
    "# numpy.fromiter ---- build an ndarray object from an iterable object\n",
    "# numpy.fromiter(iterable, dtype, count = -1)\n",
    "# count : int, optional The number of items to read from iterable. The default is -1, which means all data is read.\n",
    "Z = np.fromiter(generator(),dtype=int,count=-1)\n",
    "print Z"
   ]
  },
  {
   "cell_type": "markdown",
   "metadata": {},
   "source": [
    "#### 39. Create a vector of size 10 with values ranging from 0 to 1, both excluded (★★☆)"
   ]
  },
  {
   "cell_type": "code",
   "execution_count": 212,
   "metadata": {
    "collapsed": false
   },
   "outputs": [
    {
     "name": "stdout",
     "output_type": "stream",
     "text": [
      "[ 0.09090909  0.18181818  0.27272727  0.36363636  0.45454545  0.54545455\n",
      "  0.63636364  0.72727273  0.81818182  0.90909091]\n"
     ]
    }
   ],
   "source": [
    "print np.linspace(0, 1, 11, endpoint=False)[1:]\n",
    "# endpoint : bool, optional If True, stop is the last sample. Otherwise, it is not included. Default is True."
   ]
  },
  {
   "cell_type": "markdown",
   "metadata": {},
   "source": [
    "#### 40. Create a random vector of size 10 and sort it (★★☆)"
   ]
  },
  {
   "cell_type": "code",
   "execution_count": 216,
   "metadata": {
    "collapsed": false
   },
   "outputs": [
    {
     "name": "stdout",
     "output_type": "stream",
     "text": [
      "[ 0.41503028  0.04598068  0.23864444  0.5188116   0.40956137  0.14843841\n",
      "  0.81101092  0.11588231  0.25610178  0.71524119]\n",
      "[ 0.04598068  0.11588231  0.14843841  0.23864444  0.25610178  0.40956137\n",
      "  0.41503028  0.5188116   0.71524119  0.81101092]\n"
     ]
    }
   ],
   "source": [
    "a = np.random.random(10)\n",
    "print a\n",
    "a.sort()\n",
    "print a"
   ]
  },
  {
   "cell_type": "markdown",
   "metadata": {},
   "source": [
    "#### 41. How to sum a small array faster than np.sum? (★★☆)"
   ]
  },
  {
   "cell_type": "code",
   "execution_count": 3,
   "metadata": {
    "collapsed": false
   },
   "outputs": [
    {
     "name": "stdout",
     "output_type": "stream",
     "text": [
      "[ 0.6998322   0.12745449  0.89493678  0.0321568   0.89811057  0.51672659\n",
      "  0.5010029   0.92308019  0.58383015  0.47108241]\n",
      "5.64821307895\n"
     ]
    }
   ],
   "source": [
    "a = np.random.random(10)\n",
    "print a\n",
    "print np.add.reduce(a)"
   ]
  },
  {
   "cell_type": "markdown",
   "metadata": {},
   "source": [
    "#### 42. Consider two random array A and B, check if they are equal (★★☆)"
   ]
  },
  {
   "cell_type": "code",
   "execution_count": 5,
   "metadata": {
    "collapsed": false
   },
   "outputs": [
    {
     "name": "stdout",
     "output_type": "stream",
     "text": [
      "False\n",
      "False\n"
     ]
    }
   ],
   "source": [
    "A = np.random.random(10)\n",
    "B = np.random.random(10)\n",
    "# True if two arrays have the same shape and elements, False otherwise.\n",
    "print np.array_equal(A,B)\n",
    "# Returns True if two arrays are element-wise equal within a tolerance.\n",
    "print np.allclose(A, B)"
   ]
  },
  {
   "cell_type": "markdown",
   "metadata": {},
   "source": [
    "#### 43. Make an array immutable (read-only) (★★☆)"
   ]
  },
  {
   "cell_type": "code",
   "execution_count": 10,
   "metadata": {
    "collapsed": false
   },
   "outputs": [
    {
     "name": "stdout",
     "output_type": "stream",
     "text": [
      "[[ 1.  0.  0.]\n",
      " [ 0.  1.  0.]\n",
      " [ 0.  0.  1.]]\n",
      "  C_CONTIGUOUS : True\n",
      "  F_CONTIGUOUS : False\n",
      "  OWNDATA : True\n",
      "  WRITEABLE : True\n",
      "  ALIGNED : True\n",
      "  UPDATEIFCOPY : False\n"
     ]
    }
   ],
   "source": [
    "a = np.eye(3)\n",
    "print a\n",
    "print a.flags\n",
    "a.setflags(write=0)"
   ]
  },
  {
   "cell_type": "markdown",
   "metadata": {},
   "source": [
    "#### 44. Consider a random 10x2 matrix representing cartesian coordinates, convert them to polar coordinates (★★☆)"
   ]
  },
  {
   "cell_type": "code",
   "execution_count": 28,
   "metadata": {
    "collapsed": false,
    "scrolled": true
   },
   "outputs": [
    {
     "name": "stdout",
     "output_type": "stream",
     "text": [
      "[[41 13]\n",
      " [16 35]\n",
      " [53 14]\n",
      " [35 85]\n",
      " [55 71]\n",
      " [81 12]\n",
      " [24 13]\n",
      " [60 28]\n",
      " [82  1]\n",
      " [94  6]]\n",
      "[(1.2637505947761059, 43.011626335213137), (0.4287780274460164, 38.483762809787713), (1.3125441069838579, 54.817880294662984), (0.39060704369768678, 91.923881554251182), (0.65909004633420809, 89.810912477270818), (1.423717971406494, 81.884064383737083), (1.0743735733900148, 27.294688127912362), (1.1341691669813554, 66.211781428987393), (1.5586018093466447, 82.006097334283623), (1.5070530142622096, 94.19129471453293)]\n"
     ]
    }
   ],
   "source": [
    "a = np.random.randint(1,100,10*2).reshape((10,2))\n",
    "print a\n",
    "b = np.arctan2(a[:,0], a[:,1])\n",
    "c = np.sqrt(a[:,0]**2 + a[:,1]**2)\n",
    "print zip(b, c)"
   ]
  },
  {
   "cell_type": "markdown",
   "metadata": {},
   "source": [
    "#### 45. Create random vector of size 10 and replace the maximum value by 0 (★★☆)"
   ]
  },
  {
   "cell_type": "code",
   "execution_count": 32,
   "metadata": {
    "collapsed": false
   },
   "outputs": [
    {
     "name": "stdout",
     "output_type": "stream",
     "text": [
      "[ 4 75 24 62 87 83 94 25 23 86]\n",
      "[ 4 75 24 62 87 83  0 25 23 86]\n",
      "[ 4 75 24 62  0 83  0 25 23 86]\n"
     ]
    }
   ],
   "source": [
    "a = np.random.randint(1,100,10)\n",
    "print a\n",
    "a[a==a.max()] = 0\n",
    "print a\n",
    "a[a.argmax()]=0\n",
    "print a"
   ]
  },
  {
   "cell_type": "markdown",
   "metadata": {},
   "source": [
    "#### 46. Create a structured array with `x` and `y` coordinates covering the \\[0,1\\]x\\[0,1\\] area (★★☆)"
   ]
  },
  {
   "cell_type": "code",
   "execution_count": 33,
   "metadata": {
    "collapsed": false
   },
   "outputs": [
    {
     "name": "stdout",
     "output_type": "stream",
     "text": [
      "[array([[0, 1],\n",
      "       [0, 1]]), array([[0, 0],\n",
      "       [1, 1]])]\n"
     ]
    }
   ],
   "source": [
    "# Return coordinate matrices from coordinate vectors.\n",
    "print np.meshgrid([0,1],[0,1])"
   ]
  },
  {
   "cell_type": "markdown",
   "metadata": {},
   "source": [
    "####  47. Given two arrays, X and Y, construct the Cauchy matrix C (Cij =1/(xi - yj))"
   ]
  },
  {
   "cell_type": "code",
   "execution_count": 39,
   "metadata": {
    "collapsed": false
   },
   "outputs": [
    {
     "name": "stdout",
     "output_type": "stream",
     "text": [
      "[53 27  7]\n",
      "[17 69 86 50 39]\n",
      "[[ 0.02777778 -0.0625     -0.03030303  0.33333333  0.07142857]\n",
      " [ 0.1        -0.02380952 -0.01694915 -0.04347826 -0.08333333]\n",
      " [-0.1        -0.01612903 -0.01265823 -0.02325581 -0.03125   ]]\n"
     ]
    }
   ],
   "source": [
    "X = np.random.randint(1,100,3)\n",
    "Y = np.random.randint(1,100,5)\n",
    "print X\n",
    "print Y\n",
    "from __future__ import division\n",
    "print 1 / np.subtract.outer(X,Y)"
   ]
  },
  {
   "cell_type": "markdown",
   "metadata": {},
   "source": [
    "#### 48. Print the minimum and maximum representable value for each numpy scalar type (★★☆)"
   ]
  },
  {
   "cell_type": "code",
   "execution_count": 46,
   "metadata": {
    "collapsed": false
   },
   "outputs": [
    {
     "name": "stdout",
     "output_type": "stream",
     "text": [
      "<type 'numpy.int8'> :\n",
      "-128\n",
      "127\n",
      "<type 'numpy.int16'> :\n",
      "-32768\n",
      "32767\n",
      "<type 'numpy.int32'> :\n",
      "-2147483648\n",
      "2147483647\n",
      "<type 'numpy.int64'> :\n",
      "-9223372036854775808\n",
      "9223372036854775807\n",
      "<type 'numpy.float16'> :\n",
      "-65504.0\n",
      "65504.0\n",
      "0.00097656\n",
      "<type 'numpy.float32'> :\n",
      "-3.40282e+38\n",
      "3.40282e+38\n",
      "1.19209e-07\n",
      "<type 'numpy.float64'> :\n",
      "-1.79769313486e+308\n",
      "1.79769313486e+308\n",
      "2.22044604925e-16\n",
      "<type 'numpy.float128'> :\n",
      "-inf\n",
      "inf\n",
      "1.08420217249e-19\n"
     ]
    }
   ],
   "source": [
    "# iinfo: Machine limits for integer types.\n",
    "# finfo: Machine limits for float point types.\n",
    "for dtype in [np.int8, np.int16, np.int32, np.int64]:\n",
    "    print dtype, \":\"\n",
    "    print np.iinfo(dtype).min\n",
    "    print np.iinfo(dtype).max\n",
    "for dtype in [np.float16, np.float32, np.float64, np.float128]:\n",
    "    print dtype , \":\"\n",
    "    print np.finfo(dtype).min\n",
    "    print np.finfo(dtype).max\n",
    "    print np.finfo(dtype).eps"
   ]
  },
  {
   "cell_type": "markdown",
   "metadata": {},
   "source": [
    "#### 49. How to print all the values of an array? (★★☆)"
   ]
  },
  {
   "cell_type": "code",
   "execution_count": 49,
   "metadata": {
    "collapsed": true
   },
   "outputs": [],
   "source": [
    "# Set printing options\n",
    "# threshold, Total number of array elements which trigger summarization \n",
    "#            rather than full repr (default 1000).\n",
    "np.set_printoptions(threshold=np.nan)\n",
    "Z = np.zeros((16,16))\n",
    "print(Z)"
   ]
  },
  {
   "cell_type": "markdown",
   "metadata": {},
   "source": [
    "#### 50. How to find the closest value (to a given scalar) in a vector? (★★☆)"
   ]
  },
  {
   "cell_type": "code",
   "execution_count": 50,
   "metadata": {
    "collapsed": false
   },
   "outputs": [
    {
     "name": "stdout",
     "output_type": "stream",
     "text": [
      "[76 91 96 23 40 10 37 98  1 42]\n",
      "42\n"
     ]
    }
   ],
   "source": [
    "a = np.random.randint(0,100,10)\n",
    "x = 50\n",
    "print a\n",
    "temp = np.abs(a - x)\n",
    "print a[temp.argmin()]"
   ]
  },
  {
   "cell_type": "markdown",
   "metadata": {},
   "source": [
    "#### 51. Create a structured array representing a position (x,y) and a color (r,g,b) (★★☆)"
   ]
  },
  {
   "cell_type": "code",
   "execution_count": 73,
   "metadata": {
    "collapsed": false
   },
   "outputs": [
    {
     "name": "stdout",
     "output_type": "stream",
     "text": [
      "[('x', '<f8'), ('y', '<f8')] [('r', '<f8'), ('g', '<f8'), ('b', '<f8')]\n",
      "[('postion', [('x', '<f8'), ('y', '<f8')]), ('color', [('r', '<f8'), ('g', '<f8'), ('b', '<f8')])]\n",
      "[('position', [('x', '<f8'), ('y', '<f8')]), ('color', [('r', '<f8'), ('g', '<f8'), ('b', '<f8')])]\n"
     ]
    }
   ],
   "source": [
    "postion = np.dtype([('x', float, 1), ('y', float, 1)])\n",
    "color = np.dtype([('r', float, 1), ('g', float, 1), ('b', float, 1)])\n",
    "print postion, color\n",
    "X = np.zeros(10, dtype=[('postion', postion), ('color', color)])\n",
    "Y = np.zeros(10, dtype=[ ('position', [ ('x', float, 1),\n",
    "                                  ('y', float, 1)]),\n",
    "                   ('color',    [ ('r', float, 1),\n",
    "                                  ('g', float, 1),\n",
    "                                  ('b', float, 1)])])\n",
    "print X.dtype\n",
    "print Y.dtype"
   ]
  },
  {
   "cell_type": "markdown",
   "metadata": {},
   "source": [
    "#### 52. Consider a random vector with shape (100,2) representing coordinates, find point by point distances (★★☆)"
   ]
  },
  {
   "cell_type": "code",
   "execution_count": 88,
   "metadata": {
    "collapsed": false
   },
   "outputs": [
    {
     "name": "stdout",
     "output_type": "stream",
     "text": [
      "[[ 0.82233346  0.95837276]\n",
      " [ 0.99355572  0.34667307]\n",
      " [ 0.54259358  0.4680786 ]\n",
      " [ 0.96033521  0.58903852]\n",
      " [ 0.70558786  0.60051696]]\n",
      "[[ 0.          0.63521144  0.56448451  0.39427435  0.37641773]\n",
      " [ 0.63521144  0.          0.46701836  0.24463159  0.38387785]\n",
      " [ 0.56448451  0.46701836  0.          0.43490157  0.2100168 ]\n",
      " [ 0.39427435  0.24463159  0.43490157  0.          0.25500582]\n",
      " [ 0.37641773  0.38387785  0.2100168   0.25500582  0.        ]]\n",
      "[[ 0.          0.63521144  0.56448451  0.39427435  0.37641773]\n",
      " [ 0.63521144  0.          0.46701836  0.24463159  0.38387785]\n",
      " [ 0.56448451  0.46701836  0.          0.43490157  0.2100168 ]\n",
      " [ 0.39427435  0.24463159  0.43490157  0.          0.25500582]\n",
      " [ 0.37641773  0.38387785  0.2100168   0.25500582  0.        ]]\n"
     ]
    }
   ],
   "source": [
    "a = np.random.random((5,2))\n",
    "print a\n",
    "# View inputs as arrays with at least two dimensions.\n",
    "# Parameters: arys1, arys2, ... : array_like\n",
    "X,Y = np.atleast_2d(a[:,0], a[:,1])\n",
    "print np.sqrt((X - X.T) ** 2 + (Y - Y.T) ** 2)\n",
    "\n",
    "# Much faster with scipy\n",
    "# Thanks Gavin Heverly-Coulson (#issue 1)\n",
    "import scipy\n",
    "import scipy.spatial\n",
    "D = scipy.spatial.distance.cdist(a,a)\n",
    "print(D)"
   ]
  },
  {
   "cell_type": "markdown",
   "metadata": {},
   "source": [
    "#### 53. How to convert a float (32 bits) array into an integer (32 bits) in place?"
   ]
  },
  {
   "cell_type": "code",
   "execution_count": 102,
   "metadata": {
    "collapsed": false
   },
   "outputs": [
    {
     "name": "stdout",
     "output_type": "stream",
     "text": [
      "float32\n",
      "int32\n"
     ]
    }
   ],
   "source": [
    "a = np.arange(10, dtype=np.float32)\n",
    "print a.dtype\n",
    "a = a.astype(np.int32, copy=0)\n",
    "print a.dtype"
   ]
  },
  {
   "cell_type": "markdown",
   "metadata": {},
   "source": [
    "#### 54. How to read the following file? (★★☆)"
   ]
  },
  {
   "cell_type": "markdown",
   "metadata": {},
   "source": [
    "```\n",
    "1, 2, 3, 4, 5\n",
    "6,  ,  , 7, 8\n",
    " ,  , 9,10,11\n",
    "```"
   ]
  },
  {
   "cell_type": "code",
   "execution_count": 104,
   "metadata": {
    "collapsed": false
   },
   "outputs": [
    {
     "name": "stdout",
     "output_type": "stream",
     "text": [
      "[[  1.   2.   3.   4.   5.]\n",
      " [  6.  nan  nan   7.   8.]\n",
      " [ nan  nan   9.  10.  11.]]\n"
     ]
    }
   ],
   "source": [
    "# numpy.genfromtxt: Load data from a text file, with missing values handled as specified.\n",
    "# refer to: https://docs.scipy.org/doc/numpy/reference/generated/numpy.genfromtxt.html\n",
    "a = np.genfromtxt('input1.txt', delimiter=',')\n",
    "print a"
   ]
  },
  {
   "cell_type": "markdown",
   "metadata": {},
   "source": [
    "#### 55. What is the equivalent of enumerate for numpy arrays? (★★☆)"
   ]
  },
  {
   "cell_type": "code",
   "execution_count": 108,
   "metadata": {
    "collapsed": false
   },
   "outputs": [
    {
     "name": "stdout",
     "output_type": "stream",
     "text": [
      "(0, 0) 0\n",
      "(0, 1) 1\n",
      "(0, 2) 2\n",
      "(1, 0) 3\n",
      "(1, 1) 4\n",
      "(1, 2) 5\n",
      "(2, 0) 6\n",
      "(2, 1) 7\n",
      "(2, 2) 8\n"
     ]
    }
   ],
   "source": [
    "# enumerate in python can get index and value at the same time\n",
    "Z = np.arange(9).reshape(3,3)\n",
    "for index, value in np.ndenumerate(Z):\n",
    "    print index, value \n",
    "# for index in np.ndindex(Z.shape):\n",
    "#     print index, Z[index]"
   ]
  },
  {
   "cell_type": "markdown",
   "metadata": {},
   "source": [
    "#### 56. Generate a generic 2D Gaussian-like array (★★☆)"
   ]
  },
  {
   "cell_type": "code",
   "execution_count": 4,
   "metadata": {
    "collapsed": false
   },
   "outputs": [
    {
     "name": "stdout",
     "output_type": "stream",
     "text": [
      "[[ 0.36787944  0.44822088  0.51979489  0.57375342  0.60279818  0.60279818\n",
      "   0.57375342  0.51979489  0.44822088  0.36787944]\n",
      " [ 0.44822088  0.54610814  0.63331324  0.69905581  0.73444367  0.73444367\n",
      "   0.69905581  0.63331324  0.54610814  0.44822088]\n",
      " [ 0.51979489  0.63331324  0.73444367  0.81068432  0.85172308  0.85172308\n",
      "   0.81068432  0.73444367  0.63331324  0.51979489]\n",
      " [ 0.57375342  0.69905581  0.81068432  0.89483932  0.9401382   0.9401382\n",
      "   0.89483932  0.81068432  0.69905581  0.57375342]\n",
      " [ 0.60279818  0.73444367  0.85172308  0.9401382   0.98773022  0.98773022\n",
      "   0.9401382   0.85172308  0.73444367  0.60279818]\n",
      " [ 0.60279818  0.73444367  0.85172308  0.9401382   0.98773022  0.98773022\n",
      "   0.9401382   0.85172308  0.73444367  0.60279818]\n",
      " [ 0.57375342  0.69905581  0.81068432  0.89483932  0.9401382   0.9401382\n",
      "   0.89483932  0.81068432  0.69905581  0.57375342]\n",
      " [ 0.51979489  0.63331324  0.73444367  0.81068432  0.85172308  0.85172308\n",
      "   0.81068432  0.73444367  0.63331324  0.51979489]\n",
      " [ 0.44822088  0.54610814  0.63331324  0.69905581  0.73444367  0.73444367\n",
      "   0.69905581  0.63331324  0.54610814  0.44822088]\n",
      " [ 0.36787944  0.44822088  0.51979489  0.57375342  0.60279818  0.60279818\n",
      "   0.57375342  0.51979489  0.44822088  0.36787944]]\n"
     ]
    }
   ],
   "source": [
    "X,Y = np.meshgrid(np.linspace(-1,1,10), np.linspace(-1,1,10))\n",
    "# print X\n",
    "# print Y\n",
    "D = np.sqrt(X * X + Y * Y)\n",
    "sigma, mu = 1.0, 0.0\n",
    "G = np.exp(-((D - mu) ** 2 / (2.0 * sigma ** 2)))\n",
    "print G"
   ]
  },
  {
   "cell_type": "markdown",
   "metadata": {},
   "source": [
    "#### 57. How to randomly place p elements in a 2D array? (★★☆)"
   ]
  },
  {
   "cell_type": "code",
   "execution_count": 7,
   "metadata": {
    "collapsed": false
   },
   "outputs": [
    {
     "name": "stdout",
     "output_type": "stream",
     "text": [
      "[[ 0.  0.  0.  0.  0.  0.  0.  0.  0.  0.]\n",
      " [ 0.  0.  0.  0.  0.  0.  0.  0.  0.  0.]\n",
      " [ 0.  0.  0.  0.  0.  0.  0.  0.  0.  0.]\n",
      " [ 0.  0.  1.  0.  0.  1.  0.  0.  0.  0.]\n",
      " [ 0.  0.  0.  0.  0.  0.  0.  0.  0.  0.]\n",
      " [ 0.  0.  0.  0.  0.  0.  0.  0.  0.  0.]\n",
      " [ 0.  0.  0.  0.  0.  0.  0.  0.  0.  1.]\n",
      " [ 0.  0.  0.  0.  0.  0.  0.  0.  0.  0.]\n",
      " [ 0.  0.  0.  0.  0.  0.  0.  0.  0.  0.]\n",
      " [ 0.  0.  0.  0.  0.  0.  0.  0.  0.  0.]]\n"
     ]
    }
   ],
   "source": [
    "# np.put(array_like_to_put, flat_index, array_like_put_num, mode=None)\n",
    "## Replaces specified elements of an array with given values.\n",
    "## The indexing works on the flattened target array. put is roughly equivalent to: a.flat[ind] = v\n",
    "\n",
    "# numpy.random.choice(a, size=None, replace=True, p=None)\n",
    "## Generates a random sample from a given 1-D array\n",
    "## replace: Whether the sample is with or without replacement\n",
    "a = np.zeros((10,10))\n",
    "p = 3\n",
    "np.put(a, np.random.choice(range(10*10), p, replace=False), 1)\n",
    "print a"
   ]
  },
  {
   "cell_type": "markdown",
   "metadata": {},
   "source": [
    "#### 58. Subtract the mean of each row of a matrix (★★☆)"
   ]
  },
  {
   "cell_type": "code",
   "execution_count": 18,
   "metadata": {
    "collapsed": false
   },
   "outputs": [
    {
     "name": "stdout",
     "output_type": "stream",
     "text": [
      "[[43 23 17 20 89 17  0 43]\n",
      " [67 98  9 46 22  2 30 40]\n",
      " [ 5 41 64 41 94 49 42 60]\n",
      " [55 63 25 36 55 12 87 82]\n",
      " [41 67 52 65 36 46 10 64]]\n",
      "[[ 11.5    -8.5   -14.5   -11.5    57.5   -14.5   -31.5    11.5  ]\n",
      " [ 27.75   58.75  -30.25    6.75  -17.25  -37.25   -9.25    0.75 ]\n",
      " [-44.5    -8.5    14.5    -8.5    44.5    -0.5    -7.5    10.5  ]\n",
      " [  3.125  11.125 -26.875 -15.875   3.125 -39.875  35.125  30.125]\n",
      " [ -6.625  19.375   4.375  17.375 -11.625  -1.625 -37.625  16.375]]\n"
     ]
    }
   ],
   "source": [
    "a = np.random.randint(0,100, 5*8).reshape(5, 8)\n",
    "print a\n",
    "mean = a.mean(axis=1, keepdims=True)\n",
    "print a - mean"
   ]
  },
  {
   "cell_type": "markdown",
   "metadata": {},
   "source": [
    "#### 59. How to sort an array by the nth column? (★★☆)"
   ]
  },
  {
   "cell_type": "code",
   "execution_count": 23,
   "metadata": {
    "collapsed": false
   },
   "outputs": [
    {
     "name": "stdout",
     "output_type": "stream",
     "text": [
      "[[39 34 52 64 34 13 55 25]\n",
      " [87 36 18 49 10  2 80 64]\n",
      " [ 2 37 16  5 17 27 20 91]\n",
      " [38 89 19  0 30  4 82 60]\n",
      " [60 80 59 88  8 56 14 23]]\n",
      "[[ 2 34 16  0  8  2 14 23]\n",
      " [38 36 18  5 10  4 20 25]\n",
      " [39 37 19 49 17 13 55 60]\n",
      " [60 80 52 64 30 27 80 64]\n",
      " [87 89 59 88 34 56 82 91]]\n",
      "[[ 0  2  2  8 14 16 23 34]\n",
      " [ 4  5 10 18 20 25 36 38]\n",
      " [13 17 19 37 39 49 55 60]\n",
      " [27 30 52 60 64 64 80 80]\n",
      " [34 56 59 82 87 88 89 91]]\n"
     ]
    }
   ],
   "source": [
    "# np.argsort(a, axis=-1, kind='quicksort', order=None)\n",
    "# Returns the indices that would sort an array\n",
    "# order : str or list of str, optional\n",
    "## When a is an array with fields defined\n",
    "## this argument specifies which fields to compare first, second, etc. \n",
    "a = np.random.randint(0,100, (5, 8))\n",
    "print a\n",
    "a.sort(axis=0)\n",
    "print a\n",
    "a.sort(axis=1)\n",
    "print a"
   ]
  },
  {
   "cell_type": "markdown",
   "metadata": {},
   "source": [
    "#### 60. How to tell if a given 2D array has null columns? (★★☆)"
   ]
  },
  {
   "cell_type": "code",
   "execution_count": 32,
   "metadata": {
    "collapsed": false
   },
   "outputs": [
    {
     "name": "stdout",
     "output_type": "stream",
     "text": [
      "[[0 1 2 1 1 1 1 1 0 0]\n",
      " [0 1 1 0 1 0 0 0 0 0]\n",
      " [2 1 1 2 0 1 2 0 0 0]]\n",
      "[ True  True  True  True  True  True  True  True False False]\n",
      "True\n"
     ]
    }
   ],
   "source": [
    "a = np.random.randint(0, 3, (3, 10))\n",
    "print a\n",
    "print a.any(axis=0)\n",
    "print ((~a.any(axis=0)).any())"
   ]
  },
  {
   "cell_type": "markdown",
   "metadata": {},
   "source": [
    "#### 61. Find the nearest value from a given value in an array (★★☆)"
   ]
  },
  {
   "cell_type": "code",
   "execution_count": 34,
   "metadata": {
    "collapsed": false
   },
   "outputs": [
    {
     "name": "stdout",
     "output_type": "stream",
     "text": [
      "[46 11 19 46  7 18 14 14 97 87]\n",
      "7\n"
     ]
    }
   ],
   "source": [
    "a = np.random.randint(0, 100, 10)\n",
    "print a\n",
    "x = 6\n",
    "res = a[np.argmin(np.abs(a-x))]\n",
    "print res"
   ]
  },
  {
   "cell_type": "markdown",
   "metadata": {},
   "source": [
    "#### 62. Considering two arrays with shape (1,3) and (3,1), how to compute their sum using an iterator? (★★☆)"
   ]
  },
  {
   "cell_type": "code",
   "execution_count": 51,
   "metadata": {
    "collapsed": false
   },
   "outputs": [
    {
     "name": "stdout",
     "output_type": "stream",
     "text": [
      "[[2 4 2]]\n",
      "[[3]\n",
      " [9]\n",
      " [8]]\n",
      "<numpy.nditer object at 0x7f1902a2cf30>\n",
      "2 3 15\n",
      "4 3 16\n",
      "2 3 14\n",
      "2 9 16\n",
      "4 9 17\n",
      "2 9 15\n",
      "2 8 13\n",
      "4 8 14\n",
      "2 8 12\n",
      "[[ 5  7  5]\n",
      " [11 13 11]\n",
      " [10 12 10]]\n"
     ]
    }
   ],
   "source": [
    "a = np.random.randint(1, 10, (1,3))\n",
    "b = np.random.randint(1, 10, (3,1))\n",
    "print a\n",
    "print b\n",
    "it = np.nditer([a,b,None])\n",
    "print it\n",
    "for x,y,z in it: \n",
    "    print x, y, z\n",
    "    z[...] = x + y\n",
    "print(it.operands[2])"
   ]
  },
  {
   "cell_type": "markdown",
   "metadata": {},
   "source": [
    "#### 63. Create an array class that has a name attribute (★★☆)"
   ]
  },
  {
   "cell_type": "code",
   "execution_count": 52,
   "metadata": {
    "collapsed": false
   },
   "outputs": [
    {
     "name": "stdout",
     "output_type": "stream",
     "text": [
      "range_10\n"
     ]
    }
   ],
   "source": [
    "class NameArray(np.ndarray):\n",
    "    def __new__(cls, array, name=\"no name\"):\n",
    "        obj = np.asarray(array).view(cls)\n",
    "        obj.name = name\n",
    "        return obj\n",
    "    def __array_finalize(self, obj):\n",
    "        if obj is None:\n",
    "            return\n",
    "        self.info = getattr(obj, 'name', \"no name\")\n",
    "        \n",
    "Z = NameArray(np.arange(10), \"range_10\")\n",
    "print Z.name"
   ]
  },
  {
   "cell_type": "markdown",
   "metadata": {},
   "source": [
    "#### 64. Consider a given vector, how to add 1 to each element indexed by a second vector (be careful with repeated indices)? (★★★)"
   ]
  },
  {
   "cell_type": "code",
   "execution_count": 58,
   "metadata": {
    "collapsed": false
   },
   "outputs": [
    {
     "name": "stdout",
     "output_type": "stream",
     "text": [
      "[ 0.  0.  1.  0.  0.  1.  0.  0.  0.  1.]\n",
      "[ 0.  0.  3.  0.  0.  2.  0.  0.  0.  2.]\n"
     ]
    }
   ],
   "source": [
    "a = np.zeros(10)\n",
    "idx = [2, 5, 9, 2]\n",
    "a[idx] += 1\n",
    "print a\n",
    "np.add.at(a, idx, 1)\n",
    "print(a)"
   ]
  },
  {
   "cell_type": "markdown",
   "metadata": {},
   "source": [
    "#### 65. How to accumulate elements of a vector (X) to an array (F) based on an index list (I)? (★★★)"
   ]
  },
  {
   "cell_type": "code",
   "execution_count": 64,
   "metadata": {
    "collapsed": false
   },
   "outputs": [
    {
     "name": "stdout",
     "output_type": "stream",
     "text": [
      "[5, 2, 8, 4, 6, 1, 5, 2, 9, 5]\n",
      "[0 1 2 3 4 5 6 7 8 9]\n",
      "[  0.   5.   8.   0.   3.  15.   4.   0.   2.   8.]\n"
     ]
    }
   ],
   "source": [
    "# numpy.bincount(x, weights=None, minlength=0)\n",
    "# Count number of occurrences of each value in array of non-negative ints\n",
    "## the return array res[0...x.max()]\n",
    "# default: the res[x[idx]] += 1, the weights make res[x[idx]] += weights[idx]\n",
    "I = [5,2,8,4,6,1,5,2,9,5]\n",
    "X = np.arange(10)\n",
    "F = np.bincount(I, X)\n",
    "print I\n",
    "print X\n",
    "print F"
   ]
  },
  {
   "cell_type": "markdown",
   "metadata": {},
   "source": [
    "#### 66. Considering a (w,h,3) image of (dtype=ubyte), compute the number of unique colors (★★★)"
   ]
  },
  {
   "cell_type": "code",
   "execution_count": 74,
   "metadata": {
    "collapsed": false
   },
   "outputs": [
    {
     "name": "stdout",
     "output_type": "stream",
     "text": [
      "[[  0 256   0 257 257]\n",
      " [256 256   1 257   0]\n",
      " [257   1   1   0   0]\n",
      " [257   0 257 257 256]\n",
      " [  1   1   1 257 256]]\n",
      "4\n"
     ]
    }
   ],
   "source": [
    "I = np.random.randint(0, 2, (5,5,3)).astype(np.ubyte)\n",
    "F = I[...,0]*256*256 + I[...,1]*256 +I[...,2]\n",
    "print F\n",
    "n = len(np.unique(F))\n",
    "print(n)"
   ]
  },
  {
   "cell_type": "markdown",
   "metadata": {},
   "source": [
    "#### 67. Considering a four dimensions array, how to get sum over the last two axis at once? (★★★)"
   ]
  },
  {
   "cell_type": "code",
   "execution_count": 77,
   "metadata": {
    "collapsed": false
   },
   "outputs": [
    {
     "name": "stdout",
     "output_type": "stream",
     "text": [
      "[[221 395 245 117 333]\n",
      " [413 249 193 251 344]\n",
      " [301 254 403 361 213]\n",
      " [368 305 317 413 304]\n",
      " [284 291 326 253 339]]\n"
     ]
    }
   ],
   "source": [
    "a = np.random.randint(0, 100, (5,5,2,3))\n",
    "# print a\n",
    "print a.sum(axis=(-2,-1))"
   ]
  },
  {
   "cell_type": "markdown",
   "metadata": {},
   "source": [
    "#### 68. Considering a one-dimensional vector D, how to compute means of subsets of D using a vector S of same size describing subset  indices? (★★★)"
   ]
  },
  {
   "cell_type": "code",
   "execution_count": 83,
   "metadata": {
    "collapsed": false
   },
   "outputs": [
    {
     "name": "stdout",
     "output_type": "stream",
     "text": [
      "D= [ 0.88666172  0.34304711  0.4258038   0.69523787  0.23173362  0.40101973\n",
      "  0.44245461  0.88937984  0.50294445  0.74747347  0.75210929  0.27437857\n",
      "  0.62513244  0.87519701  0.64726227  0.2813883   0.63354429  0.66428191\n",
      "  0.48062449  0.23273264  0.32475683  0.29123075  0.99208337  0.86388675\n",
      "  0.08835137  0.8438834   0.04188953  0.32683276  0.20119604  0.60866828\n",
      "  0.56151865  0.40865062  0.33106821  0.00522547  0.93576187  0.30003982\n",
      "  0.20595365  0.27664135  0.61553513  0.4883546   0.20020938  0.66906914\n",
      "  0.4686936   0.47557879  0.21283174  0.1269313   0.37053397  0.92840811\n",
      "  0.18883938  0.83859443  0.12193762  0.82507892  0.17220598  0.27138704\n",
      "  0.24053606  0.98516997  0.95933826  0.14819655  0.53619272  0.78588692\n",
      "  0.01984188  0.8101043   0.92368572  0.3717517   0.48395408  0.2213148\n",
      "  0.29218366  0.36455274  0.37733882  0.6835993   0.40728883  0.86030458\n",
      "  0.03351963  0.34826479  0.48594057  0.7990572   0.74444969  0.89178264\n",
      "  0.8405332   0.88536493  0.32397707  0.0990161   0.00444753  0.66418555\n",
      "  0.92141371  0.91833689  0.94219759  0.45792362  0.99090376  0.53107708\n",
      "  0.92872616  0.3325592   0.75926188  0.59764164  0.09936018  0.23302551\n",
      "  0.8096037   0.36360976  0.99208948  0.2919603 ]\n",
      "S= [3 9 2 7 8 0 3 3 4 1 5 7 2 8 0 4 2 1 9 4 8 5 7 2 3 0 9 1 7 4 3 9 8 7 1 6 0\n",
      " 2 4 1 8 1 8 0 5 8 9 1 4 6 2 4 5 5 0 9 0 2 0 2 4 9 9 3 2 2 9 7 0 9 4 0 1 0\n",
      " 6 8 8 9 8 5 6 3 4 4 5 1 3 8 0 1 1 7 8 1 9 9 9 6 8 1]\n",
      "D_sums= [ 6.88657682  8.06144354  4.58629858  4.28133159  4.35095089  3.50654342\n",
      "  2.31216166  2.86523326  7.151905    7.37326071]\n",
      "D_counts= [12 13 10  8 11  7  5  7 13 14]\n",
      "[ 0.5738814   0.62011104  0.45862986  0.53516645  0.39554099  0.50093477\n",
      "  0.46243233  0.40931904  0.55014654  0.52666148]\n"
     ]
    }
   ],
   "source": [
    "# the S contains repeated indexes, each element occurs with different weights in D\n",
    "# we can take [0,10] as class and elements of D as samples. The number of samples is 100\n",
    "# this request is to compute the mean of each class\n",
    "D = np.random.uniform(0,1,100)\n",
    "print \"D=\", D\n",
    "S = np.random.randint(0,10,100)\n",
    "print \"S=\",  S\n",
    "D_sums = np.bincount(S, weights=D)\n",
    "print \"D_sums=\", D_sums\n",
    "D_counts = np.bincount(S)\n",
    "print \"D_counts=\", D_counts\n",
    "D_means = D_sums / D_counts\n",
    "print(D_means)\n"
   ]
  },
  {
   "cell_type": "markdown",
   "metadata": {},
   "source": [
    "#### 69. How to get the diagonal of a dot product? (★★★)"
   ]
  },
  {
   "cell_type": "code",
   "execution_count": 86,
   "metadata": {
    "collapsed": false
   },
   "outputs": [
    {
     "name": "stdout",
     "output_type": "stream",
     "text": [
      "[ 1.82413289  1.0860061   1.27552764  0.62973688  1.64674707]\n",
      "[ 1.82413289  1.0860061   1.27552764  0.62973688  1.64674707]\n",
      "[ 1.82413289  1.0860061   1.27552764  0.62973688  1.64674707]\n"
     ]
    }
   ],
   "source": [
    "A = np.random.uniform(0,1,(5,5))\n",
    "B = np.random.uniform(0,1,(5,5))\n",
    "print np.diag(np.dot(A, B))\n",
    "# Fast version\n",
    "print np.sum(A * B.T, axis=1)\n",
    "# Faster version\n",
    "print np.einsum(\"ij,ji->i\", A, B)"
   ]
  },
  {
   "cell_type": "markdown",
   "metadata": {},
   "source": [
    "#### 70. Consider the vector \\[1, 2, 3, 4, 5\\], how to build a new vector with 3 consecutive zeros interleaved between each value? (★★★)"
   ]
  },
  {
   "cell_type": "code",
   "execution_count": 89,
   "metadata": {
    "collapsed": false
   },
   "outputs": [
    {
     "name": "stdout",
     "output_type": "stream",
     "text": [
      "[ 1.  0.  0.  0.  2.  0.  0.  0.  3.  0.  0.  0.  4.  0.  0.  0.  5.]\n"
     ]
    }
   ],
   "source": [
    "Z = np.array([1,2,3,4,5])\n",
    "nz = 3\n",
    "Z0 = np.zeros(len(Z) + (len(Z)-1)*(nz))\n",
    "Z0[::nz+1] = Z\n",
    "print(Z0)"
   ]
  },
  {
   "cell_type": "markdown",
   "metadata": {},
   "source": [
    "#### 71. Consider an array of dimension (5,5,3), how to mulitply it by an array with dimensions (5,5)? (★★★)"
   ]
  },
  {
   "cell_type": "code",
   "execution_count": 8,
   "metadata": {
    "collapsed": false
   },
   "outputs": [
    {
     "name": "stdout",
     "output_type": "stream",
     "text": [
      "(5, 5, 1)\n",
      "(5, 5, 3)\n"
     ]
    }
   ],
   "source": [
    "A = np.ones((5,5,3))\n",
    "B = 2*np.ones((5,5))\n",
    "# add one dim\n",
    "print B[:,:,None].shape #(5, 5, 1)\n",
    "print (A * B[:,:,None]).shape #(5, 5, 3)"
   ]
  },
  {
   "cell_type": "markdown",
   "metadata": {},
   "source": [
    "#### 72. How to swap two rows of an array? (★★★)"
   ]
  },
  {
   "cell_type": "code",
   "execution_count": 17,
   "metadata": {
    "collapsed": false
   },
   "outputs": [
    {
     "name": "stdout",
     "output_type": "stream",
     "text": [
      "[[ 0  1  2  3  4]\n",
      " [ 5  6  7  8  9]\n",
      " [10 11 12 13 14]\n",
      " [15 16 17 18 19]\n",
      " [20 21 22 23 24]]\n",
      "[[ 1  0  2  3  4]\n",
      " [ 6  5  7  8  9]\n",
      " [11 10 12 13 14]\n",
      " [16 15 17 18 19]\n",
      " [21 20 22 23 24]]\n"
     ]
    }
   ],
   "source": [
    "A = np.arange(25).reshape(5,5)\n",
    "print A\n",
    "# A[(0,1)] = A[(1,0)] () refer to the elements, this doesn't swap but copy\n",
    "A[:,[0,1]] = A[:,[1,0]] # [] refer to the row\n",
    "print A"
   ]
  },
  {
   "cell_type": "markdown",
   "metadata": {},
   "source": [
    "#### 73. Consider a set of 10 triplets describing 10 triangles (with shared vertices), find the set of unique line segments composing all the  triangles (★★★)"
   ]
  },
  {
   "cell_type": "code",
   "execution_count": 9,
   "metadata": {
    "collapsed": false
   },
   "outputs": [
    {
     "name": "stdout",
     "output_type": "stream",
     "text": [
      "[[25 95 90]\n",
      " [43 97 27]\n",
      " [98 21 81]\n",
      " [41 14 85]\n",
      " [79  1  0]\n",
      " [62 13 44]\n",
      " [29 61 33]\n",
      " [66 96 66]\n",
      " [44 61 13]\n",
      " [52  7 96]]\n",
      "[[25 25 95 95 90 90]\n",
      " [43 43 97 97 27 27]\n",
      " [98 98 21 21 81 81]\n",
      " [41 41 14 14 85 85]\n",
      " [79 79  1  1  0  0]\n",
      " [62 62 13 13 44 44]\n",
      " [29 29 61 61 33 33]\n",
      " [66 66 96 96 66 66]\n",
      " [44 44 61 61 13 13]\n",
      " [52 52  7  7 96 96]]\n",
      "[[25 95 95 90 90 25]\n",
      " [43 97 97 27 27 43]\n",
      " [98 21 21 81 81 98]\n",
      " [41 14 14 85 85 41]\n",
      " [79  1  1  0  0 79]\n",
      " [62 13 13 44 44 62]\n",
      " [29 61 61 33 33 29]\n",
      " [66 96 96 66 66 66]\n",
      " [44 61 61 13 13 44]\n",
      " [52  7  7 96 96 52]]\n",
      "[[25 95]\n",
      " [95 90]\n",
      " [90 25]\n",
      " [43 97]\n",
      " [97 27]\n",
      " [27 43]\n",
      " [98 21]\n",
      " [21 81]\n",
      " [81 98]\n",
      " [41 14]\n",
      " [14 85]\n",
      " [85 41]\n",
      " [79  1]\n",
      " [ 1  0]\n",
      " [ 0 79]\n",
      " [62 13]\n",
      " [13 44]\n",
      " [44 62]\n",
      " [29 61]\n",
      " [61 33]\n",
      " [33 29]\n",
      " [66 96]\n",
      " [96 66]\n",
      " [66 66]\n",
      " [44 61]\n",
      " [61 13]\n",
      " [13 44]\n",
      " [52  7]\n",
      " [ 7 96]\n",
      " [96 52]]\n",
      "[( 0, 79) ( 1,  0) ( 7, 96) (13, 44) (14, 85) (21, 81) (25, 95) (27, 43)\n",
      " (29, 61) (33, 29) (41, 14) (43, 97) (44, 61) (44, 62) (52,  7) (61, 13)\n",
      " (61, 33) (62, 13) (66, 66) (66, 96) (79,  1) (81, 98) (85, 41) (90, 25)\n",
      " (95, 90) (96, 52) (96, 66) (97, 27) (98, 21)]\n"
     ]
    }
   ],
   "source": [
    "faces = np.random.randint(0, 100, (10, 3))\n",
    "print faces\n",
    "print faces.repeat(2, axis=1)\n",
    "# roll(array, shift, axis)\n",
    "# shift by ring, right > 0 and left < 0\n",
    "F = np.roll(faces.repeat(2, axis=1), -1, axis=1)\n",
    "print F\n",
    "F = F.reshape(len(F)*3, 2)\n",
    "print F #edge\n",
    "G = F.view(dtype=[('p0', F.dtype), ('p1', F.dtype)])\n",
    "G = np.unique(G)\n",
    "print G"
   ]
  },
  {
   "cell_type": "markdown",
   "metadata": {},
   "source": [
    "#### 74. Given an array C that is a bincount, how to produce an array A such that np.bincount(A) == C? (★★★)"
   ]
  },
  {
   "cell_type": "code",
   "execution_count": 11,
   "metadata": {
    "collapsed": false
   },
   "outputs": [
    {
     "name": "stdout",
     "output_type": "stream",
     "text": [
      "[7 8 1 4 1 0 3 2 5 9]\n",
      "[0 0 0 0 0 0 0 1 1 1 1 1 1 1 1 2 3 3 3 3 4 6 6 6 7 7 8 8 8 8 8 9 9 9 9 9 9\n",
      " 9 9 9]\n"
     ]
    }
   ],
   "source": [
    "C = np.random.randint(0, 10, 10)\n",
    "print C\n",
    "A = np.repeat(np.arange(len(C)), C)\n",
    "print A"
   ]
  },
  {
   "cell_type": "markdown",
   "metadata": {},
   "source": [
    "#### 75. How to compute averages using a sliding window over an array? (★★★)"
   ]
  },
  {
   "cell_type": "code",
   "execution_count": 18,
   "metadata": {
    "collapsed": false
   },
   "outputs": [
    {
     "name": "stdout",
     "output_type": "stream",
     "text": [
      "[   0.    1.    3.    6.   10.   15.   21.   28.   36.   45.   55.   66.\n",
      "   78.   91.  105.  120.  136.  153.  171.  190.]\n",
      "[  0.   1.   3.   6.   9.  12.  15.  18.  21.  24.  27.  30.  33.  36.  39.\n",
      "  42.  45.  48.  51.  54.]\n",
      "[  1.   2.   3.   4.   5.   6.   7.   8.   9.  10.  11.  12.  13.  14.  15.\n",
      "  16.  17.  18.]\n"
     ]
    }
   ],
   "source": [
    "from __future__ import division\n",
    "def mv_avg(a, n = 3):\n",
    "    ret = np.cumsum(a, dtype=float)\n",
    "    print ret\n",
    "    ret[n:] = ret[n:] - ret[:-n]\n",
    "    print ret\n",
    "    return ret[n-1:]/n\n",
    "Z = np.arange(20)\n",
    "print mv_avg(Z)"
   ]
  },
  {
   "cell_type": "markdown",
   "metadata": {},
   "source": [
    "#### 76. Consider a one-dimensional array Z, build a two-dimensional array whose first row is (Z\\[0\\],Z\\[1\\],Z\\[2\\]) and each subsequent row is  shifted by 1 (last row should be (Z\\[-3\\],Z\\[-2\\],Z\\[-1\\]) (★★★)"
   ]
  },
  {
   "cell_type": "code",
   "execution_count": 44,
   "metadata": {
    "collapsed": false
   },
   "outputs": [
    {
     "name": "stdout",
     "output_type": "stream",
     "text": [
      "[[ 0.  1.  2.]\n",
      " [ 1.  2.  3.]\n",
      " [ 2.  3.  4.]\n",
      " [ 3.  4.  5.]\n",
      " [ 4.  5.  6.]\n",
      " [ 5.  6.  7.]\n",
      " [ 6.  7.  8.]\n",
      " [ 7.  8.  9.]]\n",
      "[[0 1 2]\n",
      " [1 2 3]\n",
      " [2 3 4]\n",
      " [3 4 5]\n",
      " [4 5 6]\n",
      " [5 6 7]\n",
      " [6 7 8]\n",
      " [7 8 9]]\n"
     ]
    }
   ],
   "source": [
    "Z = np.arange(10)\n",
    "step = 3\n",
    "row = len(Z) - step + 1\n",
    "F = np.zeros((row, step))\n",
    "for i in range(row):\n",
    "    F[i,:] = Z[i:i+3]\n",
    "print F\n",
    "\n",
    "from numpy.lib import stride_tricks\n",
    "\n",
    "def rolling(a, window):\n",
    "    shape = (a.size - window + 1, window)\n",
    "    strides = (a.itemsize, a.itemsize)\n",
    "    return stride_tricks.as_strided(a, shape=shape, strides=strides)\n",
    "Z = rolling(np.arange(10), 3)\n",
    "print(Z)"
   ]
  },
  {
   "cell_type": "markdown",
   "metadata": {},
   "source": [
    "#### 77. How to negate a boolean, or to change the sign of a float inplace? (★★★)"
   ]
  },
  {
   "cell_type": "code",
   "execution_count": 49,
   "metadata": {
    "collapsed": false,
    "scrolled": false
   },
   "outputs": [
    {
     "name": "stdout",
     "output_type": "stream",
     "text": [
      "[1 1 0 0 0 0 0 0 1 0 0 0 1 0 1 0 0 0 0 1 1 0 0 1 0 1 0 1 1 0 1 1 1 1 1 0 0\n",
      " 0 1 1 0 0 0 1 0 0 1 1 0 0 0 1 0 0 1 0 1 1 1 0 0 0 0 0 1 0 0 1 0 0 1 0 1 1\n",
      " 0 1 1 0 1 0 0 1 0 1 1 0 1 0 0 1 1 0 1 0 1 0 1 0 1 1]\n",
      "[-0.35813854 -0.91302982 -0.00349167 -0.6274243  -0.92602243 -0.28615085\n",
      " -0.96706885 -0.52893999 -0.24229335 -0.62091889 -0.65778484 -0.44439223\n",
      " -0.34615486 -0.22510695 -0.62752018 -0.08835982 -0.3095795  -0.27354945\n",
      " -0.00124274 -0.88445232 -0.74815699 -0.8378763  -0.73798509 -0.05773402\n",
      " -0.89580065 -0.78946917 -0.16040129 -0.22347283 -0.0100545  -0.949977\n",
      " -0.39215579 -0.73633173 -0.49908662 -0.38365928 -0.22306469 -0.12204318\n",
      " -0.25907161 -0.20504262 -0.27526769 -0.97262493 -0.88657729 -0.66453926\n",
      " -0.29561089 -0.10290164 -0.20802169 -0.65024979 -0.84484113 -0.32292215\n",
      " -0.29050417 -0.66698978 -0.01271162 -0.84332089 -0.34663672 -0.76942961\n",
      " -0.66589724 -0.73861717 -0.88886028 -0.21493973 -0.55541859 -0.76721265\n",
      " -0.66892131 -0.19487779 -0.50333448 -0.31232295 -0.05762797 -0.54784713\n",
      " -0.79788835 -0.70244226 -0.75053204 -0.8144552  -0.89205178 -0.54539158\n",
      " -0.65513685 -0.66685326 -0.70071493 -0.63841878 -0.02819422 -0.81148089\n",
      " -0.52235952 -0.85938555 -0.9716362  -0.68945428 -0.41962865 -0.43870541\n",
      " -0.92767819 -0.42659806 -0.06534491 -0.28208632 -0.11759915 -0.74377482\n",
      " -0.93807123 -0.37054151 -0.86060487 -0.01728764 -0.85660868 -0.93305487\n",
      " -0.03367833 -0.70585417 -0.591582   -0.6276782 ]\n"
     ]
    }
   ],
   "source": [
    "flag = np.random.randint(0, 2, 100)\n",
    "print np.logical_not(flag, out = flag)\n",
    "f = np.random.uniform(0, 1, 100)\n",
    "print np.negative(f, out = f)"
   ]
  },
  {
   "cell_type": "markdown",
   "metadata": {},
   "source": [
    "#### 78. Consider 2 sets of points P0,P1 describing lines (2d) and a point p, how to compute distance from p to each line i  (P0\\[i\\],P1\\[i\\])? (★★★)"
   ]
  },
  {
   "cell_type": "code",
   "execution_count": 32,
   "metadata": {
    "collapsed": false
   },
   "outputs": [
    {
     "name": "stdout",
     "output_type": "stream",
     "text": [
      "(10, 2)\n",
      "(10,)\n",
      "(10,)\n",
      "[ 0.02238501  0.30350078  0.30112154  0.15846085  0.02638434  0.06482239\n",
      "  0.2386688   0.03744339  0.66166379  0.20082729]\n",
      "[ 0.02238501  0.30350078  0.30112154  0.15846085  0.02638434  0.06482239\n",
      "  0.2386688   0.03744339  0.66166379  0.20082729]\n"
     ]
    }
   ],
   "source": [
    "p = np.random.uniform(0, 1, (1, 2))\n",
    "P0 = np.random.uniform(0, 1, (10,2))\n",
    "P1 = np.random.uniform(0, 1, (10,2))\n",
    "\n",
    "# d = |Ax-by+C| / sqrt(A**2+B**2)\n",
    "# A = y1 - y2\n",
    "# B = x1 - x2\n",
    "# C = x1y2 - x2y1\n",
    "AB = P0 - P1\n",
    "C = P0[:,0] * P1[:,1] - P0[:,1] * P1[:,0]\n",
    "print AB.shape\n",
    "down = np.sqrt(np.sum(AB ** 2, axis = 1))\n",
    "print down.shape\n",
    "up = np.abs(AB[:,1] * p[0][0] - AB[:,0] * p[0][1] + C)\n",
    "print up.shape\n",
    "dist = up / down\n",
    "print dist\n",
    "\n",
    "# def distance(P0, P1, p):\n",
    "#     T = P1 - P0\n",
    "#     L = (T**2).sum(axis=1)\n",
    "#     U = -((P0[:,0]-p[...,0])*T[:,0] + (P0[:,1]-p[...,1])*T[:,1]) / L\n",
    "#     U = U.reshape(len(U),1)\n",
    "#     D = P0 + U*T - p\n",
    "#     return np.sqrt((D**2).sum(axis=1))\n",
    "# print(distance(P0, P1, p))"
   ]
  },
  {
   "cell_type": "markdown",
   "metadata": {},
   "source": [
    "#### 79. Consider 2 sets of points P0,P1 describing lines (2d) and a set of points P, how to compute distance from each point j (P\\[j\\]) to each line i (P0\\[i\\],P1\\[i\\])? (★★★)"
   ]
  },
  {
   "cell_type": "code",
   "execution_count": 40,
   "metadata": {
    "collapsed": false
   },
   "outputs": [
    {
     "name": "stdout",
     "output_type": "stream",
     "text": [
      "(10, 2)\n",
      "(10,)\n",
      "(5, 10)\n",
      "[[ 0.49700483  0.34504314  0.87402843  0.74897864  0.46003239  0.53463393\n",
      "   0.09711807  0.07997124  0.19655399  0.15780491]\n",
      " [ 0.2558936   0.16520677  0.18595152  0.03978621  0.04886974  0.05890842\n",
      "   0.29147476  0.09623676  0.22094737  0.56026379]\n",
      " [ 0.49725281  0.2675272   0.16707136  0.03642137  0.67689389  0.59519848\n",
      "   0.26659052  0.84971089  0.31127498  0.63727291]\n",
      " [ 0.47470817  0.39685124  0.89814304  0.79144241  0.45994403  0.5312773\n",
      "   0.14773573  0.11579893  0.24764693  0.19720487]\n",
      " [ 0.28907706  0.34229185  0.66823467  0.61465286  0.22865504  0.3038786\n",
      "   0.14432765  0.24561263  0.23274157  0.00591675]]\n",
      "[[ 0.49700483  0.34504314  0.87402843  0.74897864  0.46003239  0.53463393\n",
      "   0.09711807  0.07997124  0.19655399  0.15780491]\n",
      " [ 0.2558936   0.16520677  0.18595152  0.03978621  0.04886974  0.05890842\n",
      "   0.29147476  0.09623676  0.22094737  0.56026379]\n",
      " [ 0.49725281  0.2675272   0.16707136  0.03642137  0.67689389  0.59519848\n",
      "   0.26659052  0.84971089  0.31127498  0.63727291]\n",
      " [ 0.47470817  0.39685124  0.89814304  0.79144241  0.45994403  0.5312773\n",
      "   0.14773573  0.11579893  0.24764693  0.19720487]\n",
      " [ 0.28907706  0.34229185  0.66823467  0.61465286  0.22865504  0.3038786\n",
      "   0.14432765  0.24561263  0.23274157  0.00591675]]\n"
     ]
    }
   ],
   "source": [
    "p = np.random.uniform(0, 1, (5, 2))\n",
    "P0 = np.random.uniform(0, 1, (10,2))\n",
    "P1 = np.random.uniform(0, 1, (10,2))\n",
    "\n",
    "AB = P0 - P1\n",
    "C = P0[:,0] * P1[:,1] - P0[:,1] * P1[:,0]\n",
    "print AB.shape\n",
    "down = np.sqrt(np.sum(AB ** 2, axis = 1))\n",
    "print down.shape\n",
    "B, A = np.atleast_2d(AB[:,0], AB[:,1])\n",
    "X, Y = np.atleast_2d(p[:, 0], p[:, 1])\n",
    "up = np.abs(np.dot(X.T, A) - np.dot(Y.T,B) + C)\n",
    "print up.shape\n",
    "dist = up / down\n",
    "print dist\n",
    "\n",
    "print(np.array([distance(P0,P1,p_i) for p_i in p]))"
   ]
  },
  {
   "cell_type": "markdown",
   "metadata": {},
   "source": [
    "#### 80. Consider an arbitrary array, write a function that extract a subpart with a fixed shape and centered on a given element (pad with a `fill` value when necessary) (★★★)"
   ]
  },
  {
   "cell_type": "code",
   "execution_count": null,
   "metadata": {
    "collapsed": true
   },
   "outputs": [],
   "source": [
    "Z = np.random.randint(0,10,(10,10))\n",
    "shape = (5,5)\n",
    "fill  = 0\n",
    "position = (1,1)\n",
    "\n",
    "R = np.ones(shape, dtype=Z.dtype)*fill\n",
    "P  = np.array(list(position)).astype(int)\n",
    "Rs = np.array(list(R.shape)).astype(int)\n",
    "Zs = np.array(list(Z.shape)).astype(int)\n",
    "\n",
    "R_start = np.zeros((len(shape),)).astype(int)\n",
    "R_stop  = np.array(list(shape)).astype(int)\n",
    "Z_start = (P-Rs//2)\n",
    "Z_stop  = (P+Rs//2)+Rs%2\n",
    "\n",
    "R_start = (R_start - np.minimum(Z_start,0)).tolist()\n",
    "Z_start = (np.maximum(Z_start,0)).tolist()\n",
    "R_stop = np.maximum(R_start, (R_stop - np.maximum(Z_stop-Zs,0))).tolist()\n",
    "Z_stop = (np.minimum(Z_stop,Zs)).tolist()\n",
    "\n",
    "r = [slice(start,stop) for start,stop in zip(R_start,R_stop)]\n",
    "z = [slice(start,stop) for start,stop in zip(Z_start,Z_stop)]\n",
    "R[r] = Z[z]\n",
    "print(Z)\n",
    "print(R)"
   ]
  },
  {
   "cell_type": "markdown",
   "metadata": {},
   "source": [
    "#### 81. Consider an array Z = \\[1,2,3,4,5,6,7,8,9,10,11,12,13,14\\], how to generate an array R = \\[\\[1,2,3,4\\], \\[2,3,4,5\\], \\[3,4,5,6\\], ..., \\[11,12,13,14\\]\\]? (★★★)"
   ]
  },
  {
   "cell_type": "code",
   "execution_count": 44,
   "metadata": {
    "collapsed": false
   },
   "outputs": [
    {
     "name": "stdout",
     "output_type": "stream",
     "text": [
      "[[ 1  2  3  4]\n",
      " [ 2  3  4  5]\n",
      " [ 3  4  5  6]\n",
      " [ 4  5  6  7]\n",
      " [ 5  6  7  8]\n",
      " [ 6  7  8  9]\n",
      " [ 7  8  9 10]\n",
      " [ 8  9 10 11]\n",
      " [ 9 10 11 12]\n",
      " [10 11 12 13]\n",
      " [11 12 13 14]]\n"
     ]
    }
   ],
   "source": [
    "from numpy.lib import stride_tricks\n",
    "# numpy.lib.stride_tricks.as_strided(x, shape=None, strides=None, subok=False, writeable=True)\n",
    "## strides: The strides of the new array, strides = (a.itemsize, a.itemsize)\n",
    "Z = np.arange(1,15,dtype=np.uint32)\n",
    "R = stride_tricks.as_strided(Z,(11,4),(4,4))\n",
    "print(R)"
   ]
  },
  {
   "cell_type": "markdown",
   "metadata": {},
   "source": [
    "#### 82. Compute a matrix rank (★★★)"
   ]
  },
  {
   "cell_type": "code",
   "execution_count": 49,
   "metadata": {
    "collapsed": false
   },
   "outputs": [
    {
     "name": "stdout",
     "output_type": "stream",
     "text": [
      "[[95  1 96 10  7 29 42 95]\n",
      " [72 51 13 65 26 83 96 10]\n",
      " [12 78 99 19 44 93 20 13]\n",
      " [81 16 95 45 66 51  2 17]\n",
      " [66 41 53 73 81 98 21 87]\n",
      " [53 25  5 75  1 57 57 75]\n",
      " [64  5 70 20 39 16 75 68]]\n",
      "7\n",
      "7\n"
     ]
    }
   ],
   "source": [
    "A = np.random.randint(0, 100, (7, 8))\n",
    "print A\n",
    "U, S, V = np.linalg.svd(A)\n",
    "rank = np.sum(S > 1e-10)\n",
    "print(rank)\n",
    "print np.linalg.matrix_rank(A)"
   ]
  },
  {
   "cell_type": "markdown",
   "metadata": {},
   "source": [
    "#### 83. How to find the most frequent value in an array?"
   ]
  },
  {
   "cell_type": "code",
   "execution_count": 51,
   "metadata": {
    "collapsed": false
   },
   "outputs": [
    {
     "name": "stdout",
     "output_type": "stream",
     "text": [
      "[1 6 7 3 5 4 1 9 5 4 4 8 5 8 9 1 7 3 3 4 1 5 4 5 5 5 5 2 4 5 9 9 4 2 8 9 1\n",
      " 6 9 8 5 7 4 6 8 5 0 9 9 2 3 9 6 1 4 0 9 1 6 1 1 8 7 0 7 5 0 2 5 6 7 7 0 8\n",
      " 8 1 5 0 7 4 4 2 7 0 0 8 4 5 9 5 7 4 5 5 0 0 7 8 8 6]\n",
      "[10 10  5  4 13 18  7 11 11 11]\n",
      "5\n"
     ]
    }
   ],
   "source": [
    "Z = np.random.randint(0, 10, 100)\n",
    "print Z\n",
    "C = np.bincount(Z)\n",
    "print C\n",
    "print np.argmax(C)"
   ]
  },
  {
   "cell_type": "markdown",
   "metadata": {},
   "source": [
    "#### 84. Extract all the contiguous 3x3 blocks from a random 10x10 matrix (★★★)"
   ]
  },
  {
   "cell_type": "code",
   "execution_count": 55,
   "metadata": {
    "collapsed": false
   },
   "outputs": [
    {
     "name": "stdout",
     "output_type": "stream",
     "text": [
      "(40, 4)\n",
      "(40, 4, 40, 4)\n",
      "[[[[9 7 0]\n",
      "   [2 8 2]\n",
      "   [7 7 0]]\n",
      "\n",
      "  [[7 0 3]\n",
      "   [8 2 5]\n",
      "   [7 0 6]]\n",
      "\n",
      "  [[0 3 9]\n",
      "   [2 5 9]\n",
      "   [0 6 9]]\n",
      "\n",
      "  [[3 9 5]\n",
      "   [5 9 9]\n",
      "   [6 9 6]]\n",
      "\n",
      "  [[9 5 6]\n",
      "   [9 9 9]\n",
      "   [9 6 0]]\n",
      "\n",
      "  [[5 6 4]\n",
      "   [9 9 4]\n",
      "   [6 0 6]]\n",
      "\n",
      "  [[6 4 2]\n",
      "   [9 4 8]\n",
      "   [0 6 2]]\n",
      "\n",
      "  [[4 2 1]\n",
      "   [4 8 5]\n",
      "   [6 2 3]]]\n",
      "\n",
      "\n",
      " [[[2 8 2]\n",
      "   [7 7 0]\n",
      "   [5 9 8]]\n",
      "\n",
      "  [[8 2 5]\n",
      "   [7 0 6]\n",
      "   [9 8 4]]\n",
      "\n",
      "  [[2 5 9]\n",
      "   [0 6 9]\n",
      "   [8 4 5]]\n",
      "\n",
      "  [[5 9 9]\n",
      "   [6 9 6]\n",
      "   [4 5 0]]\n",
      "\n",
      "  [[9 9 9]\n",
      "   [9 6 0]\n",
      "   [5 0 2]]\n",
      "\n",
      "  [[9 9 4]\n",
      "   [6 0 6]\n",
      "   [0 2 9]]\n",
      "\n",
      "  [[9 4 8]\n",
      "   [0 6 2]\n",
      "   [2 9 3]]\n",
      "\n",
      "  [[4 8 5]\n",
      "   [6 2 3]\n",
      "   [9 3 9]]]\n",
      "\n",
      "\n",
      " [[[7 7 0]\n",
      "   [5 9 8]\n",
      "   [7 5 8]]\n",
      "\n",
      "  [[7 0 6]\n",
      "   [9 8 4]\n",
      "   [5 8 0]]\n",
      "\n",
      "  [[0 6 9]\n",
      "   [8 4 5]\n",
      "   [8 0 6]]\n",
      "\n",
      "  [[6 9 6]\n",
      "   [4 5 0]\n",
      "   [0 6 9]]\n",
      "\n",
      "  [[9 6 0]\n",
      "   [5 0 2]\n",
      "   [6 9 7]]\n",
      "\n",
      "  [[6 0 6]\n",
      "   [0 2 9]\n",
      "   [9 7 5]]\n",
      "\n",
      "  [[0 6 2]\n",
      "   [2 9 3]\n",
      "   [7 5 6]]\n",
      "\n",
      "  [[6 2 3]\n",
      "   [9 3 9]\n",
      "   [5 6 5]]]\n",
      "\n",
      "\n",
      " [[[5 9 8]\n",
      "   [7 5 8]\n",
      "   [0 9 8]]\n",
      "\n",
      "  [[9 8 4]\n",
      "   [5 8 0]\n",
      "   [9 8 1]]\n",
      "\n",
      "  [[8 4 5]\n",
      "   [8 0 6]\n",
      "   [8 1 7]]\n",
      "\n",
      "  [[4 5 0]\n",
      "   [0 6 9]\n",
      "   [1 7 0]]\n",
      "\n",
      "  [[5 0 2]\n",
      "   [6 9 7]\n",
      "   [7 0 9]]\n",
      "\n",
      "  [[0 2 9]\n",
      "   [9 7 5]\n",
      "   [0 9 6]]\n",
      "\n",
      "  [[2 9 3]\n",
      "   [7 5 6]\n",
      "   [9 6 8]]\n",
      "\n",
      "  [[9 3 9]\n",
      "   [5 6 5]\n",
      "   [6 8 3]]]\n",
      "\n",
      "\n",
      " [[[7 5 8]\n",
      "   [0 9 8]\n",
      "   [4 7 7]]\n",
      "\n",
      "  [[5 8 0]\n",
      "   [9 8 1]\n",
      "   [7 7 9]]\n",
      "\n",
      "  [[8 0 6]\n",
      "   [8 1 7]\n",
      "   [7 9 1]]\n",
      "\n",
      "  [[0 6 9]\n",
      "   [1 7 0]\n",
      "   [9 1 8]]\n",
      "\n",
      "  [[6 9 7]\n",
      "   [7 0 9]\n",
      "   [1 8 2]]\n",
      "\n",
      "  [[9 7 5]\n",
      "   [0 9 6]\n",
      "   [8 2 9]]\n",
      "\n",
      "  [[7 5 6]\n",
      "   [9 6 8]\n",
      "   [2 9 0]]\n",
      "\n",
      "  [[5 6 5]\n",
      "   [6 8 3]\n",
      "   [9 0 4]]]\n",
      "\n",
      "\n",
      " [[[0 9 8]\n",
      "   [4 7 7]\n",
      "   [8 7 1]]\n",
      "\n",
      "  [[9 8 1]\n",
      "   [7 7 9]\n",
      "   [7 1 0]]\n",
      "\n",
      "  [[8 1 7]\n",
      "   [7 9 1]\n",
      "   [1 0 2]]\n",
      "\n",
      "  [[1 7 0]\n",
      "   [9 1 8]\n",
      "   [0 2 3]]\n",
      "\n",
      "  [[7 0 9]\n",
      "   [1 8 2]\n",
      "   [2 3 8]]\n",
      "\n",
      "  [[0 9 6]\n",
      "   [8 2 9]\n",
      "   [3 8 1]]\n",
      "\n",
      "  [[9 6 8]\n",
      "   [2 9 0]\n",
      "   [8 1 9]]\n",
      "\n",
      "  [[6 8 3]\n",
      "   [9 0 4]\n",
      "   [1 9 3]]]\n",
      "\n",
      "\n",
      " [[[4 7 7]\n",
      "   [8 7 1]\n",
      "   [4 5 5]]\n",
      "\n",
      "  [[7 7 9]\n",
      "   [7 1 0]\n",
      "   [5 5 9]]\n",
      "\n",
      "  [[7 9 1]\n",
      "   [1 0 2]\n",
      "   [5 9 2]]\n",
      "\n",
      "  [[9 1 8]\n",
      "   [0 2 3]\n",
      "   [9 2 3]]\n",
      "\n",
      "  [[1 8 2]\n",
      "   [2 3 8]\n",
      "   [2 3 2]]\n",
      "\n",
      "  [[8 2 9]\n",
      "   [3 8 1]\n",
      "   [3 2 1]]\n",
      "\n",
      "  [[2 9 0]\n",
      "   [8 1 9]\n",
      "   [2 1 7]]\n",
      "\n",
      "  [[9 0 4]\n",
      "   [1 9 3]\n",
      "   [1 7 0]]]\n",
      "\n",
      "\n",
      " [[[8 7 1]\n",
      "   [4 5 5]\n",
      "   [3 0 9]]\n",
      "\n",
      "  [[7 1 0]\n",
      "   [5 5 9]\n",
      "   [0 9 3]]\n",
      "\n",
      "  [[1 0 2]\n",
      "   [5 9 2]\n",
      "   [9 3 1]]\n",
      "\n",
      "  [[0 2 3]\n",
      "   [9 2 3]\n",
      "   [3 1 4]]\n",
      "\n",
      "  [[2 3 8]\n",
      "   [2 3 2]\n",
      "   [1 4 5]]\n",
      "\n",
      "  [[3 8 1]\n",
      "   [3 2 1]\n",
      "   [4 5 2]]\n",
      "\n",
      "  [[8 1 9]\n",
      "   [2 1 7]\n",
      "   [5 2 1]]\n",
      "\n",
      "  [[1 9 3]\n",
      "   [1 7 0]\n",
      "   [2 1 0]]]]\n"
     ]
    }
   ],
   "source": [
    "Z = np.random.randint(0, 10, (10, 10), dtype=np.int32)\n",
    "print Z.strides # (40, 4) offset = sum(np.array(i) * a.strides)\n",
    "print Z.strides + Z.strides #(40, 4, 40, 4)\n",
    "print stride_tricks.as_strided(Z, shape=(8, 8, 3, 3), strides=Z.strides + Z.strides)"
   ]
  },
  {
   "cell_type": "markdown",
   "metadata": {},
   "source": [
    "#### 85. Create a 2D array subclass such that Z\\[i,j\\] == Z\\[j,i\\] (★★★)"
   ]
  },
  {
   "cell_type": "code",
   "execution_count": 64,
   "metadata": {
    "collapsed": false
   },
   "outputs": [
    {
     "name": "stdout",
     "output_type": "stream",
     "text": [
      "[[ 6  7  9 11  8]\n",
      " [ 7  6 14 15  1]\n",
      " [ 9 14  5 42 10]\n",
      " [11 15 42  1  9]\n",
      " [ 8  1 10  9  2]]\n"
     ]
    }
   ],
   "source": [
    "# Note: only works for 2d array and value setting using indices\n",
    "\n",
    "class Symetric(np.ndarray):\n",
    "    def __setitem__(self, index, value):\n",
    "        i,j = index\n",
    "        super(Symetric, self).__setitem__((i,j), value)\n",
    "        super(Symetric, self).__setitem__((j,i), value)\n",
    "\n",
    "def symetric(Z):\n",
    "    return np.asarray(Z + Z.T - np.diag(Z.diagonal())).view(Symetric)\n",
    "\n",
    "S = symetric(np.random.randint(0,10,(5,5)))\n",
    "S[2,3] = 42\n",
    "print(S)"
   ]
  },
  {
   "cell_type": "markdown",
   "metadata": {},
   "source": [
    "#### 86. Consider a set of p matrices wich shape (n,n) and a set of p vectors with shape (n,1). How to compute the sum of of the p matrix products at once? (result has shape (n,1)) (★★★)"
   ]
  },
  {
   "cell_type": "code",
   "execution_count": 58,
   "metadata": {
    "collapsed": false
   },
   "outputs": [
    {
     "name": "stdout",
     "output_type": "stream",
     "text": [
      "[[351]\n",
      " [343]\n",
      " [308]\n",
      " [267]\n",
      " [353]]\n"
     ]
    }
   ],
   "source": [
    "# numpy.tensordot(a, b, axes=2)\n",
    "## Compute tensor dot product along specified axes for arrays >= 1-D.\n",
    "## # The third argument can be a single non-negative integer_like scalar, N;\n",
    "## # if it is such, then the last N dimensions of a and the first N dimensions of b are summed over.\n",
    "n = 5\n",
    "p = 3\n",
    "A = np.random.randint(0, 10, (p, n, n))\n",
    "B = np.random.randint(0, 10, (p, n, 1))\n",
    "print np.tensordot(A, B, axes=[[0, 2], [0, 1]])\n",
    "\n",
    "# It works, because:\n",
    "# M is (p,n,n)\n",
    "# V is (p,n,1)\n",
    "# Thus, summing over the paired axes 0 and 0 (of M and V independently),\n",
    "# and 2 and 1, to remain with a (n,1) vector."
   ]
  },
  {
   "cell_type": "markdown",
   "metadata": {},
   "source": [
    "#### 87. Consider a 16x16 array, how to get the block-sum (block size is 4x4)? (★★★)"
   ]
  },
  {
   "cell_type": "code",
   "execution_count": 71,
   "metadata": {
    "collapsed": false
   },
   "outputs": [
    {
     "name": "stdout",
     "output_type": "stream",
     "text": [
      "(4, 4)\n",
      "[[ 66  82  75  65]\n",
      " [100  33  69  60]\n",
      " [ 57  72  66  87]\n",
      " [ 51  41  77  67]]\n",
      "[[ 66  82  75  65]\n",
      " [100  33  69  60]\n",
      " [ 57  72  66  87]\n",
      " [ 51  41  77  67]]\n"
     ]
    }
   ],
   "source": [
    "Z = np.random.randint(0, 10, (16, 16), dtype=np.int32)\n",
    "step = 4\n",
    "intsize = 4\n",
    "block_size = 16 / step\n",
    "block =  stride_tricks.as_strided(Z, shape=(block_size, block_size, 4, 4), strides=(step*16*intsize, step*intsize, 16*intsize, intsize))\n",
    "s = np.sum(block, axis = (2, 3))\n",
    "print s.shape\n",
    "print s\n",
    "\n",
    "# ufunc.reduceat(a, indices, axis=0, dtype=None, out=None)\n",
    "## refer to https://docs.scipy.org/doc/numpy/reference/generated/numpy.ufunc.reduceat.html\n",
    "k = 4\n",
    "# [0, k, 2k, 3k] means row0+row1+row2+row3,row4+row5+row6+row7\n",
    "S = np.add.reduceat(np.add.reduceat(Z, np.arange(0, Z.shape[0], k), axis=0),\n",
    "                                       np.arange(0, Z.shape[1], k), axis=1)\n",
    "print(S)"
   ]
  },
  {
   "cell_type": "markdown",
   "metadata": {},
   "source": [
    "#### 88. How to implement the Game of Life using numpy arrays? (★★★)"
   ]
  },
  {
   "cell_type": "code",
   "execution_count": null,
   "metadata": {
    "collapsed": true
   },
   "outputs": [],
   "source": [
    "# the game of life can refer to http://www.cnblogs.com/grandyang/p/4854466.html\n",
    "def iterate(Z):\n",
    "    # Count neighbours\n",
    "    N = (Z[0:-2,0:-2] + Z[0:-2,1:-1] + Z[0:-2,2:] +\n",
    "         Z[1:-1,0:-2]                + Z[1:-1,2:] +\n",
    "         Z[2:  ,0:-2] + Z[2:  ,1:-1] + Z[2:  ,2:])\n",
    "\n",
    "    # Apply rules\n",
    "    birth = (N==3) & (Z[1:-1,1:-1]==0) # dead\n",
    "    survive = ((N==2) | (N==3)) & (Z[1:-1,1:-1]==1) # live\n",
    "    Z[...] = 0\n",
    "    Z[1:-1,1:-1][birth | survive] = 1\n",
    "    return Z\n",
    "\n",
    "Z = np.random.randint(0,2,(50,50))\n",
    "for i in range(100): \n",
    "    Z = iterate(Z)\n",
    "print(Z)"
   ]
  },
  {
   "cell_type": "markdown",
   "metadata": {},
   "source": [
    "#### 89. How to get the n largest values of an array (★★★)"
   ]
  },
  {
   "cell_type": "code",
   "execution_count": 2,
   "metadata": {
    "collapsed": false
   },
   "outputs": [
    {
     "name": "stdout",
     "output_type": "stream",
     "text": [
      "[ 0.24056592  0.75311397  0.93405731  0.6955102   0.14809363  0.6797921\n",
      "  0.17999748  0.70125779  0.5398704   0.33891926]\n",
      "[ 0.6797921   0.6955102   0.70125779  0.75311397  0.93405731]\n",
      "[ 0.6797921   0.6955102   0.70125779  0.75311397  0.93405731]\n",
      "[ 0.75311397  0.70125779  0.93405731  0.6955102   0.6797921 ]\n"
     ]
    }
   ],
   "source": [
    "Z = np.random.random(10)\n",
    "print Z\n",
    "ZS = np.sort(Z)\n",
    "max_num = 5\n",
    "print ZS[-5:]\n",
    "\n",
    "n=5\n",
    "\n",
    "# Slow\n",
    "print (Z[np.argsort(Z)[-n:]])\n",
    "\n",
    "# Fast\n",
    "## numpy.argpartition(a, kth, axis=-1, kind='introselect', order=None)\n",
    "## the element before kth is simaller than kth and those after kth is bigger than it \n",
    "print (Z[np.argpartition(-Z,n)[:n]])"
   ]
  },
  {
   "cell_type": "markdown",
   "metadata": {},
   "source": [
    "#### 90. Given an arbitrary number of vectors, build the cartesian product (every combinations of every item) (★★★)"
   ]
  },
  {
   "cell_type": "code",
   "execution_count": 11,
   "metadata": {
    "collapsed": false,
    "scrolled": true
   },
   "outputs": [
    {
     "name": "stdout",
     "output_type": "stream",
     "text": [
      "[[ 1.  4.  6.]\n",
      " [ 1.  4.  7.]\n",
      " [ 1.  4.  8.]\n",
      " [ 1.  4.  9.]\n",
      " [ 1.  5.  6.]\n",
      " [ 1.  5.  7.]\n",
      " [ 1.  5.  8.]\n",
      " [ 1.  5.  9.]\n",
      " [ 2.  4.  6.]\n",
      " [ 2.  4.  7.]\n",
      " [ 2.  4.  8.]\n",
      " [ 2.  4.  9.]\n",
      " [ 2.  5.  6.]\n",
      " [ 2.  5.  7.]\n",
      " [ 2.  5.  8.]\n",
      " [ 2.  5.  9.]\n",
      " [ 3.  4.  6.]\n",
      " [ 3.  4.  7.]\n",
      " [ 3.  4.  8.]\n",
      " [ 3.  4.  9.]\n",
      " [ 3.  5.  6.]\n",
      " [ 3.  5.  7.]\n",
      " [ 3.  5.  8.]\n",
      " [ 3.  5.  9.]]\n",
      "[[1 4 6]\n",
      " [1 4 7]\n",
      " [1 4 8]\n",
      " [1 4 9]\n",
      " [1 5 6]\n",
      " [1 5 7]\n",
      " [1 5 8]\n",
      " [1 5 9]\n",
      " [2 4 6]\n",
      " [2 4 7]\n",
      " [2 4 8]\n",
      " [2 4 9]\n",
      " [2 5 6]\n",
      " [2 5 7]\n",
      " [2 5 8]\n",
      " [2 5 9]\n",
      " [3 4 6]\n",
      " [3 4 7]\n",
      " [3 4 8]\n",
      " [3 4 9]\n",
      " [3 5 6]\n",
      " [3 5 7]\n",
      " [3 5 8]\n",
      " [3 5 9]]\n"
     ]
    }
   ],
   "source": [
    "# numpy.indices(dimensions, dtype=<type 'int'>)\n",
    "## Return an array representing the indices of a grid.\n",
    "a = [1, 2, 3]\n",
    "b = [4, 5]\n",
    "c = [6, 7, 8, 9]\n",
    "\n",
    "def cart(arrays):\n",
    "    arrays = [np.asarray(a) for a in arrays]\n",
    "    shape = (len(x) for x in arrays)\n",
    "    \n",
    "    ix = np.indices(shape, dtype=int)\n",
    "    ix = ix.reshape(len(arrays), -1)  #(3, 3*2*4)\n",
    "    \n",
    "    res = np.zeros(ix.shape)\n",
    "    for i in range(len(arrays)):\n",
    "        res[i,:] = arrays[i][ix[i, :]]\n",
    "        \n",
    "    return res.T\n",
    "    \n",
    "print (cart((a, b, c)))    \n",
    "\n",
    "def cartesian(arrays):\n",
    "    arrays = [np.asarray(a) for a in arrays]\n",
    "    shape = (len(x) for x in arrays)\n",
    "\n",
    "    ix = np.indices(shape, dtype=int)\n",
    "    ix = ix.reshape(len(arrays), -1).T\n",
    "\n",
    "    for n, arr in enumerate(arrays):\n",
    "        ix[:, n] = arrays[n][ix[:, n]]\n",
    "\n",
    "    return ix\n",
    "\n",
    "print (cartesian((a, b, c)))"
   ]
  },
  {
   "cell_type": "markdown",
   "metadata": {},
   "source": [
    "#### 91. How to create a record array from a regular array? (★★★)"
   ]
  },
  {
   "cell_type": "code",
   "execution_count": 13,
   "metadata": {
    "collapsed": false
   },
   "outputs": [
    {
     "name": "stdout",
     "output_type": "stream",
     "text": [
      "[('Hello', 2.5, 3L) ('World', 3.6, 2L)]\n",
      "['Hello' 'World']\n",
      "('Hello', 2.5, 3L)\n"
     ]
    }
   ],
   "source": [
    "# core.records.fromarrays: create a record array from a (flat) list of arrays\n",
    "Z = np.array([(\"Hello\", 2.5, 3),\n",
    "              (\"World\", 3.6, 2)])\n",
    "R = np.core.records.fromarrays(Z.T, \n",
    "                               names='col1, col2, col3',\n",
    "                               formats = 'S8, f8, i8')\n",
    "print(R)\n",
    "print R.col1\n",
    "print R[0]"
   ]
  },
  {
   "cell_type": "markdown",
   "metadata": {},
   "source": [
    "#### 92. Consider a large vector Z, compute Z to the power of 3 using 3 different methods (★★★)"
   ]
  },
  {
   "cell_type": "code",
   "execution_count": 14,
   "metadata": {
    "collapsed": false
   },
   "outputs": [
    {
     "name": "stdout",
     "output_type": "stream",
     "text": [
      "100 loops, best of 3: 2.16 ms per loop\n",
      "100 loops, best of 3: 11.1 ms per loop\n",
      "100 loops, best of 3: 11.5 ms per loop\n",
      "100 loops, best of 3: 2.66 ms per loop\n"
     ]
    }
   ],
   "source": [
    "Z = np.random.random(100000)\n",
    "%timeit Z1 = Z * Z * Z\n",
    "%timeit Z2 = Z ** 3\n",
    "%timeit Z3 = np.power(Z, 3)\n",
    "# enisum:  Evaluates the Einstein summation convention on the operands.\n",
    "%timeit Z4 = np.einsum('i,i,i->i',Z,Z,Z)\n"
   ]
  },
  {
   "cell_type": "markdown",
   "metadata": {},
   "source": [
    "#### 93. Consider two arrays A and B of shape (8,3) and (2,2). How to find rows of A that contain elements of each row of B regardless of the order of the elements in B? (★★★)"
   ]
  },
  {
   "cell_type": "code",
   "execution_count": 18,
   "metadata": {
    "collapsed": false
   },
   "outputs": [
    {
     "name": "stdout",
     "output_type": "stream",
     "text": [
      "[[0 9 0]\n",
      " [6 1 1]\n",
      " [3 6 9]\n",
      " [1 0 8]\n",
      " [3 7 7]\n",
      " [1 6 3]\n",
      " [1 1 8]\n",
      " [5 8 6]]\n",
      "[[1 9]\n",
      " [5 1]]\n",
      "[1 3 5 6]\n"
     ]
    }
   ],
   "source": [
    "A = np.random.randint(0, 10, (8, 3))\n",
    "B = np.random.randint(0, 10, (2, 2))\n",
    "print A\n",
    "print B\n",
    "C = (A[..., np.newaxis, np.newaxis] == B)\n",
    "rows = np.where(C.any((3,1)).all(1))[0]\n",
    "print(rows)"
   ]
  },
  {
   "cell_type": "markdown",
   "metadata": {},
   "source": [
    "#### 94. Considering a 10x3 matrix, extract rows with unequal values (e.g. \\[2,2,3\\]) (★★★)"
   ]
  },
  {
   "cell_type": "code",
   "execution_count": 37,
   "metadata": {
    "collapsed": false
   },
   "outputs": [
    {
     "name": "stdout",
     "output_type": "stream",
     "text": [
      "[[0 1 0]\n",
      " [0 1 1]\n",
      " [1 1 0]\n",
      " [0 0 1]\n",
      " [1 1 0]\n",
      " [0 0 0]\n",
      " [0 0 1]\n",
      " [0 0 0]\n",
      " [1 0 1]\n",
      " [1 1 0]]\n",
      "[[0 1 0]\n",
      " [0 1 1]\n",
      " [1 1 0]\n",
      " [0 0 1]\n",
      " [1 1 0]\n",
      " [0 0 1]\n",
      " [1 0 1]\n",
      " [1 1 0]]\n"
     ]
    }
   ],
   "source": [
    "Z = np.random.randint(0, 2, (10, 3))\n",
    "# print Z\n",
    "uni_size = np.asarray([len(np.unique(Z[row])) for row in range(Z.shape[0])])\n",
    "print Z[np.nonzero(uni_size>1)[0],:]\n",
    "\n",
    "# # solution for arrays of all dtypes (including string arrays and record arrays)\n",
    "# E = np.all(Z[:,1:] == Z[:,:-1], axis=1)\n",
    "# U = Z[~E]\n",
    "# print(U)\n",
    "# # soluiton for numerical arrays only, will work for any number of columns in Z\n",
    "# U = Z[Z.max(axis=1) != Z.min(axis=1),:]\n",
    "# print(U)\n"
   ]
  },
  {
   "cell_type": "markdown",
   "metadata": {},
   "source": [
    "#### 95. Convert a vector of ints into a matrix binary representation (★★★)"
   ]
  },
  {
   "cell_type": "code",
   "execution_count": 40,
   "metadata": {
    "collapsed": false
   },
   "outputs": [
    {
     "name": "stdout",
     "output_type": "stream",
     "text": [
      "[[0 0 0 0 0 0 0 0]\n",
      " [0 0 0 0 0 0 0 1]\n",
      " [0 0 0 0 0 0 1 0]\n",
      " [0 0 0 0 0 0 1 1]\n",
      " [0 0 0 0 1 1 1 1]\n",
      " [0 0 0 1 0 0 0 0]\n",
      " [0 0 1 0 0 0 0 0]\n",
      " [0 1 0 0 0 0 0 0]\n",
      " [1 0 0 0 0 0 0 0]]\n",
      "[[0 0 0 0 0 0 0 0]\n",
      " [0 0 0 0 0 0 0 1]\n",
      " [0 0 0 0 0 0 1 0]\n",
      " [0 0 0 0 0 0 1 1]\n",
      " [0 0 0 0 1 1 1 1]\n",
      " [0 0 0 1 0 0 0 0]\n",
      " [0 0 1 0 0 0 0 0]\n",
      " [0 1 0 0 0 0 0 0]\n",
      " [1 0 0 0 0 0 0 0]]\n"
     ]
    }
   ],
   "source": [
    "# Author: Warren Weckesser\n",
    "\n",
    "I = np.array([0, 1, 2, 3, 15, 16, 32, 64, 128])\n",
    "B = ((I.reshape(-1,1) & (2**np.arange(8))) != 0).astype(int)\n",
    "print(B[:,::-1])\n",
    "\n",
    "# Author: Daniel T. McDonald\n",
    "# unpackbit: Unpacks elements of a uint8 array into a binary-valued output array.\n",
    "I = np.array([0, 1, 2, 3, 15, 16, 32, 64, 128], dtype=np.uint8)\n",
    "print(np.unpackbits(I[:, np.newaxis], axis=1))"
   ]
  },
  {
   "cell_type": "markdown",
   "metadata": {},
   "source": [
    "#### 96. Given a two dimensional array, how to extract unique rows? (★★★)"
   ]
  },
  {
   "cell_type": "code",
   "execution_count": 44,
   "metadata": {
    "collapsed": false
   },
   "outputs": [
    {
     "name": "stdout",
     "output_type": "stream",
     "text": [
      "[[0 0]\n",
      " [0 1]\n",
      " [1 0]]\n"
     ]
    }
   ],
   "source": [
    "Z = np.random.randint(0, 2, (10, 2))\n",
    "# np.ascontiguousarray: Return a contiguous array in memory (C order).\n",
    "T = np.ascontiguousarray(Z).view(np.dtype((np.void, Z.dtype.itemsize * Z.shape[1])))\n",
    "_, idx = np.unique(T, return_index=True)\n",
    "uZ = Z[idx]\n",
    "print(uZ)"
   ]
  },
  {
   "cell_type": "markdown",
   "metadata": {},
   "source": [
    "#### 97. Considering 2 vectors A & B, write the einsum equivalent of inner, outer, sum, and mul function (★★★)"
   ]
  },
  {
   "cell_type": "code",
   "execution_count": 48,
   "metadata": {
    "collapsed": false
   },
   "outputs": [
    {
     "data": {
      "text/plain": [
       "array([ 0.33659014,  0.3989222 ,  0.142318  ,  0.17536192,  0.26035083,\n",
       "        0.05752125,  0.00777259,  0.0017277 ,  0.06871543,  0.35018037])"
      ]
     },
     "execution_count": 48,
     "metadata": {},
     "output_type": "execute_result"
    }
   ],
   "source": [
    "A = np.random.uniform(0,1,10)\n",
    "B = np.random.uniform(0,1,10)\n",
    "\n",
    "np.einsum('i,i', A, B) # inner\n",
    "np.einsum('i,j->ij', A, B) #outer\n",
    "np.einsum('i->', A) # sum\n",
    "np.einsum('i,i -> i', A, B) # mul\n"
   ]
  },
  {
   "cell_type": "markdown",
   "metadata": {},
   "source": [
    "#### 98. Considering a path described by two vectors (X,Y), how to sample it using equidistant samples (★★★)?"
   ]
  },
  {
   "cell_type": "code",
   "execution_count": 52,
   "metadata": {
    "collapsed": false
   },
   "outputs": [
    {
     "name": "stdout",
     "output_type": "stream",
     "text": [
      "[ 4.44628383  5.82283132  2.49989208  2.51324338  3.25249002  3.68690241\n",
      "  5.08205922  7.10483106  0.39595691  3.96266892]\n",
      "[ 5.55371617  4.17716868  7.50010792  7.48675662  6.74750998  6.31309759\n",
      "  4.91794078  4.          9.          6.03733108]\n"
     ]
    }
   ],
   "source": [
    "# numpy.interp(x, xp, fp, left=None, right=None, period=None)\n",
    "# One-dimensional linear interpolation.\n",
    "# xp and fp is the given plot, the x is the point to interpolate,return the corresponding y\n",
    "X = [1, 2, 3, 4, 5, 6]\n",
    "Y = [9, 8, 7, 6, 5, 4]\n",
    "x = np.random.uniform(0, 10, 10)\n",
    "print x\n",
    "print np.interp(x, X, Y)"
   ]
  },
  {
   "cell_type": "markdown",
   "metadata": {},
   "source": [
    "#### 99. Given an integer n and a 2D array X, select from X the rows which can be interpreted as draws from a multinomial distribution with n degrees, i.e., the rows which only contain integers and which sum to n. (★★★)"
   ]
  },
  {
   "cell_type": "code",
   "execution_count": 59,
   "metadata": {
    "collapsed": false
   },
   "outputs": [
    {
     "name": "stdout",
     "output_type": "stream",
     "text": [
      "[False False False  True False  True False False False False]\n",
      "[[0 3 1]\n",
      " [2 0 2]]\n"
     ]
    }
   ],
   "source": [
    "X = np.random.randint(0, 4, (10,3))\n",
    "n = 4\n",
    "M = np.logical_and.reduce(np.mod(X, 1) == 0, axis=1)\n",
    "M &= (X.sum(axis=1) == n)\n",
    "print M\n",
    "print X[M,:]"
   ]
  },
  {
   "cell_type": "markdown",
   "metadata": {},
   "source": [
    "#### 100. Compute bootstrapped 95% confidence intervals for the mean of a 1D array X (i.e., resample the elements of an array with replacement N times, compute the mean of each sample, and then compute percentiles over the means). (★★★)"
   ]
  },
  {
   "cell_type": "code",
   "execution_count": 63,
   "metadata": {
    "collapsed": false
   },
   "outputs": [
    {
     "name": "stdout",
     "output_type": "stream",
     "text": [
      "[-0.07589244  0.32095821]\n"
     ]
    }
   ],
   "source": [
    "# 95% confidence intervals 置信度为95%的置信区间，均值的置信空间\n",
    "# numpy.percentile(a, q, axis=None, out=None, overwrite_input=False, interpolation='linear', keepdims=False)\n",
    "# Compute the qth percentage of the data along the specified axis.\n",
    "X = np.random.randn(100) \n",
    "N = 1000 \n",
    "idx = np.random.randint(0, X.size, (N, X.size))\n",
    "means = X[idx].mean(axis=1) # 采样1000次，每次计算采样出来的样本的平均值\n",
    "confint = np.percentile(means, [2.5, 97.5]) # 置信空间左右对称2.5%\n",
    "print(confint)"
   ]
  },
  {
   "cell_type": "code",
   "execution_count": null,
   "metadata": {
    "collapsed": true
   },
   "outputs": [],
   "source": []
  }
 ],
 "metadata": {
  "kernelspec": {
   "display_name": "Python 2",
   "language": "python",
   "name": "python2"
  },
  "language_info": {
   "codemirror_mode": {
    "name": "ipython",
    "version": 2
   },
   "file_extension": ".py",
   "mimetype": "text/x-python",
   "name": "python",
   "nbconvert_exporter": "python",
   "pygments_lexer": "ipython2",
   "version": "2.7.12"
  }
 },
 "nbformat": 4,
 "nbformat_minor": 1
}
